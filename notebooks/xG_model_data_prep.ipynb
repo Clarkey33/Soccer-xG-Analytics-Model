{
 "cells": [
  {
   "cell_type": "markdown",
   "id": "8bebc2fa",
   "metadata": {},
   "source": [
    "# Data Preprocessing"
   ]
  },
  {
   "cell_type": "code",
   "execution_count": null,
   "id": "efcad8bc",
   "metadata": {},
   "outputs": [],
   "source": [
    "import pandas as pd\n",
    "import numpy as np\n",
    "import os\n",
    "import sys\n",
    "import matplotlib.pyplot as plt\n",
    "import seaborn as sns   "
   ]
  },
  {
   "cell_type": "code",
   "execution_count": null,
   "id": "380d9090",
   "metadata": {},
   "outputs": [],
   "source": [
    "#load the dataset\n",
    "df = pd.read_csv(\"./data/processed/shot_events.csv\")\n",
    "\n",
    "print(f\"Dataset has {df.shape[0]} rows and {df.shape[1]} columns\")"
   ]
  },
  {
   "cell_type": "code",
   "execution_count": null,
   "id": "1b380d6e",
   "metadata": {},
   "outputs": [],
   "source": [
    "#globally set column display options\n",
    "pd.options.display.max_columns = None\n",
    "pd.options.display.max_rows = None"
   ]
  },
  {
   "cell_type": "code",
   "execution_count": null,
   "id": "678b5cd4",
   "metadata": {},
   "outputs": [],
   "source": [
    "df.info()"
   ]
  },
  {
   "cell_type": "code",
   "execution_count": null,
   "id": "39765005",
   "metadata": {},
   "outputs": [],
   "source": [
    "# Display all duplicate rows\n",
    "duplicate_rows = df[df.duplicated(keep=False)]\n",
    "print(f\"Number of duplicate rows: {len(duplicate_rows)}\")\n",
    "print(\"\\nDuplicate rows:\")\n",
    "print(duplicate_rows)"
   ]
  },
  {
   "cell_type": "code",
   "execution_count": null,
   "id": "f3411f03",
   "metadata": {},
   "outputs": [],
   "source": [
    "# To see which rows are exactly identical\n",
    "#print(\"\\nGrouped duplicate rows with counts:\")\n",
    "#duplicate_counts = df.groupby(df.columns.tolist()).size().reset_index(name='count')\n",
    "#print(duplicate_counts[duplicate_counts['count'] > 1])"
   ]
  },
  {
   "cell_type": "markdown",
   "id": "7a54b69d",
   "metadata": {},
   "source": [
    "What is xG? \n",
    "\n",
    "1. The acronym stands for Expected Goals. It represents the probability of a shot resulting in a goal\n",
    "    * example: xG -> 0.2: likely to score 2 goals from 10 shots\n",
    "\n",
    "How is xG calculated?\n",
    "1. Parameters: \n",
    "    *   distance to goal\n",
    "    *   angle to goal\n",
    "    *   body part used\n",
    "    *   type of assist/previous action(through ball, cross etc)\n",
    "2. The model then calculates a probability of a goal between 0 and 1 \n",
    "    *   1 means absolute certainty\n",
    "    *   0 means no certainty\n",
    "\n",
    "\n",
    "source: StatsBomb\n"
   ]
  },
  {
   "cell_type": "markdown",
   "id": "389b5723",
   "metadata": {},
   "source": [
    "To build a basic xG model\n",
    "\n",
    "It Requires feaures that \n",
    "    a.  are known at the moment of the shot, \n",
    "    b.  affect the likelihood of scoring  \n",
    "    c.  available consistently for all shots \n",
    " \n"
   ]
  },
  {
   "cell_type": "code",
   "execution_count": null,
   "id": "60d0e86c",
   "metadata": {},
   "outputs": [],
   "source": [
    "#check features available\n",
    "print(\"Features available in the dataset:\")\n",
    "df.columns.tolist()"
   ]
  },
  {
   "cell_type": "markdown",
   "id": "a26619f5",
   "metadata": {},
   "source": [
    "#### Features for the MVP model \n",
    "\n",
    "Feature selection guided by research:\n",
    "\n",
    "1. shot.statsbomb_xg -> to train the model\n",
    "2. location -> calculated distance and angle of shot\n",
    "3. shot.body_part.name -> impacts quality(foot, head, etc)\n",
    "4. shot.type.name -> open play, free kick etc\n",
    "5. under_pressure -> impacts shot accuracy \n",
    "\n"
   ]
  },
  {
   "cell_type": "code",
   "execution_count": null,
   "id": "d0ce5d4d",
   "metadata": {},
   "outputs": [],
   "source": [
    "#create a copy of the dataframe for further processing\n",
    "df_xg= df.copy()\n",
    "\n",
    "#feature selection\n",
    "df_xg = df_xg[['shot.statsbomb_xg','location','shot.body_part.name',\n",
    "               'shot.type.name','under_pressure']]\n",
    "\n",
    "#display the first few rows of the dataframe\n",
    "print(\"First few rows of the dataset:\")\n",
    "print(df_xg.head(3))"
   ]
  },
  {
   "cell_type": "code",
   "execution_count": null,
   "id": "af788ce7",
   "metadata": {},
   "outputs": [],
   "source": [
    "#check for missing values (percentage)\n",
    "df_xg.isna().mean()*100"
   ]
  },
  {
   "cell_type": "code",
   "execution_count": null,
   "id": "d6f675b8",
   "metadata": {},
   "outputs": [],
   "source": [
    "#examine under_pressure feature\n",
    "print(\"Unique values in 'under_pressure' feature:\")\n",
    "print(df_xg['under_pressure'].unique())"
   ]
  },
  {
   "cell_type": "markdown",
   "id": "fd11e2da",
   "metadata": {},
   "source": [
    "The feature 'under_pressure' is a binary feature; indicating whether the shot was underpressure (True) or not underpressure (False).\n",
    "\n",
    "Why is the data missing?\n",
    "1.  It appears data collection intentionally recorded 'True' when the shot was under pressure. \n",
    "2.  It did not record a value for when it was not under pressure\n",
    "\n",
    "What type of Missing Data is This?\n",
    "*   MNAR (Missing not at Random) ->\n",
    "    *   missingness depends on the value itself\n",
    "    *   missing due to how the data was collected\n",
    "    *   NaN means -> \"no pressure\" (safe to treat as False)\n",
    "\n",
    "Approach to handle missing value\n",
    "*   Convert to binary values\n",
    "    *   True -> 1\n",
    "    *   NaN -> 0\n"
   ]
  },
  {
   "cell_type": "code",
   "execution_count": null,
   "id": "e1e2214e",
   "metadata": {},
   "outputs": [],
   "source": [
    "#manage missing values\n",
    "df_xg['under_pressure']= df_xg['under_pressure'].fillna(0).astype(int)\n",
    "\n",
    "#convert 'True to 1'\n",
    "df_xg['under_pressure'] = df_xg['under_pressure'].replace(True, 1)\n",
    "\n",
    "#confirm changes\n",
    "print(\"Unique values in 'under_pressure' after conversion:\")\n",
    "print(df_xg['under_pressure'].unique())\n",
    "\n",
    "#check missing values again\n",
    "print(\"Missing values after processing:\")   \n",
    "print(df_xg.isna().mean() * 100)\n"
   ]
  },
  {
   "cell_type": "code",
   "execution_count": null,
   "id": "80f8cfe4",
   "metadata": {},
   "outputs": [],
   "source": [
    "#check data types\n",
    "print(\"Data types of the features:\")\n",
    "print(df_xg.dtypes) "
   ]
  },
  {
   "cell_type": "markdown",
   "id": "1372e5bf",
   "metadata": {},
   "source": [
    "### Feature: Location\n",
    "\n",
    "Closer look:\n",
    "\n",
    "1.  The feature location is an array with two sets of values.\n",
    "2.  The values represent x and y coordinates for shot take (source StatsBomb)\n",
    "3.  The football pitch is a plane equal to the product of x=120 and y =80\n",
    "4.  The center of the goal is y=40\n",
    "\n",
    "In order to calculate xG:\n",
    "1.  Calculate the distance from the center of goal\n",
    "2.  Calcualte the angle of the shot from goal \n",
    "    a.  shot angle confined to width of the goal (top and bottom y coordinates of the goal frame)\n",
    "3. The law of cosine will be used to calculate shot angle and \n",
    "4.  Pythogas theorem used to calculate shot distance\n"
   ]
  },
  {
   "cell_type": "markdown",
   "id": "c56b5b3d",
   "metadata": {},
   "source": [
    "# Feature engineering: extract x and y coordinates"
   ]
  },
  {
   "cell_type": "code",
   "execution_count": null,
   "id": "774956dd",
   "metadata": {},
   "outputs": [],
   "source": [
    "sys.path.append(\"C:/Users/On3B3/OneDrive/Documents/Programming_Projects/xG_Model/src\")\n",
    "#import user-defined Class for shot calculations\n",
    "from features import ShotCalculations\n"
   ]
  },
  {
   "cell_type": "code",
   "execution_count": null,
   "id": "e2087492",
   "metadata": {},
   "outputs": [],
   "source": [
    "import ast\n",
    "\n",
    "#extraxt x and y coordinates from the 'location' column\n",
    "df_xg['x']= df_xg['location'].apply(lambda x: ast.literal_eval(x)[0])\n",
    "df_xg['y']= df_xg['location'].apply(lambda x: ast.literal_eval(x)[1])\n",
    "\n",
    "#convert 'x' and 'y' to float\n",
    "df_xg['x'] = df_xg['x'].astype(float)\n",
    "df_xg['y'] = df_xg['y'].astype(float)\n"
   ]
  },
  {
   "cell_type": "code",
   "execution_count": null,
   "id": "32b3f0b0",
   "metadata": {},
   "outputs": [],
   "source": [
    "#calculate the distance from the goal\n",
    "def calculate_shot_features(row):\n",
    "    #create instance for each individual shot\n",
    "\n",
    "    shot= ShotCalculations(x=row['x'], y=row['y'])\n",
    "    return pd.Series({\n",
    "        'shot_distance': shot.calculate_shot_distance(),\n",
    "        'shot_angle': shot.calculate_shot_angle()\n",
    "    })\n",
    "    \n",
    "#apply the function to each row\n",
    "shot_features = df_xg.apply(calculate_shot_features, axis=1)\n",
    "\n",
    "#add new features to the dataframe\n",
    "df_xg = pd.concat([df_xg, shot_features], axis=1)\n",
    "\n",
    "#verify the new features\n",
    "print(df_xg[['x','y','shot_distance','shot_angle']].head(3))"
   ]
  },
  {
   "cell_type": "code",
   "execution_count": null,
   "id": "eac62bf2",
   "metadata": {},
   "outputs": [],
   "source": [
    "#rename columns for clarity\n",
    "df_xg.columns=['shot_xg','location','body_part','shot_type','under_pressure',\n",
    "       'x','y','shot_distance','shot_angle']\n",
    "\n",
    "#verify changes\n",
    "print(df_xg.columns.tolist())"
   ]
  },
  {
   "cell_type": "code",
   "execution_count": null,
   "id": "6c26790c",
   "metadata": {},
   "outputs": [],
   "source": [
    "df_xg.head(3)"
   ]
  },
  {
   "cell_type": "code",
   "execution_count": null,
   "id": "34188d19",
   "metadata": {},
   "outputs": [],
   "source": [
    "#convert under_pressure to categorical\n",
    "df_xg['under_pressure'] = df_xg['under_pressure'].astype('category')\n",
    "\n",
    "#verify the conversion\n",
    "print(f\"under_pressure data type: {df_xg['under_pressure'].dtypes}\")"
   ]
  },
  {
   "cell_type": "code",
   "execution_count": null,
   "id": "1e5eea41",
   "metadata": {},
   "outputs": [],
   "source": [
    "#check for missing values again\n",
    "print(\"Missing values after all processing:\")\n",
    "print(df_xg.isna().mean() * 100)"
   ]
  },
  {
   "cell_type": "code",
   "execution_count": null,
   "id": "bc0dea62",
   "metadata": {},
   "outputs": [],
   "source": [
    "# Save the processed DataFrame to a CSV file\n",
    "output_path = \"./data/processed/shot_events_processed.csv\"\n",
    "df_xg.to_csv(output_path, index=False)"
   ]
  },
  {
   "cell_type": "markdown",
   "id": "d5a75a51",
   "metadata": {},
   "source": [
    "# Data Visualization"
   ]
  },
  {
   "cell_type": "code",
   "execution_count": null,
   "id": "4f1096c1",
   "metadata": {},
   "outputs": [],
   "source": [
    "# 1. Histogram: Feature Distributions\n",
    "features = [ 'shot_distance', 'shot_angle', 'shot_xg', 'x', 'y', 'under_pressure']\n",
    "\n",
    "fig, axes = plt.subplots(nrows=2, ncols=3, figsize=(12, 10))\n",
    "axes = axes.flatten()\n",
    "for i, feature in enumerate(features):\n",
    "    sns.histplot(df_xg[feature], bins=30, kde=True, ax=axes[i])\n",
    "    axes[i].set_title(f'Distribution of {feature}')\n",
    "    axes[i].set_xlabel(feature)\n",
    "    axes[i].set_ylabel('Frequency')"
   ]
  },
  {
   "cell_type": "code",
   "execution_count": null,
   "id": "28ae95f1",
   "metadata": {},
   "outputs": [],
   "source": [
    "#2. Bar Chart: Categorical Features\n",
    "categorical_features = ['body_part', 'shot_type', 'under_pressure']\n",
    "fig, axes = plt.subplots(nrows=1, ncols=len(categorical_features), figsize=(16, 11))\n",
    "for i, feature in enumerate(categorical_features):\n",
    "    sns.countplot(data=df_xg, x=feature, ax=axes[i])\n",
    "    axes[i].set_title(f'Count of {feature}')\n",
    "    axes[i].set_xlabel(feature)\n",
    "    axes[i].set_ylabel('Count')\n",
    "    axes[i].tick_params(axis='x', rotation=45)"
   ]
  },
  {
   "cell_type": "code",
   "execution_count": null,
   "id": "58b64e80",
   "metadata": {},
   "outputs": [],
   "source": [
    "#3. Scatter Plot: Shot Distance vs. Shot Angle\n",
    "plt.figure(figsize=(10, 6))\n",
    "sns.scatterplot(data=df_xg, x='shot_distance', y='shot_angle', hue='under_pressure', alpha=0.6)\n",
    "plt.title('Shot Distance vs. Shot Angle')\n",
    "plt.xlabel('Shot Distance')\n",
    "plt.ylabel('Shot Angle')\n",
    "plt.legend(title='Under Pressure')\n",
    "plt.tight_layout()"
   ]
  },
  {
   "cell_type": "code",
   "execution_count": null,
   "id": "25a19baf",
   "metadata": {},
   "outputs": [],
   "source": [
    "#4. Scatter Plot: Shot Distance vs. Shot XG\n",
    "plt.figure(figsize=(10, 6))\n",
    "sns.scatterplot(data=df_xg, x='shot_distance', y='shot_xg', hue='under_pressure', alpha=0.6)\n",
    "plt.title('Shot Distance vs. Shot XG')\n",
    "plt.xlabel('Shot Distance')\n",
    "plt.ylabel('Shot XG')\n",
    "plt.legend(title='Under Pressure')\n",
    "plt.tight_layout()"
   ]
  },
  {
   "cell_type": "code",
   "execution_count": null,
   "id": "bca20f5b",
   "metadata": {},
   "outputs": [],
   "source": [
    "def draw_pitch(ax=None, pitch_length=120, pitch_width=80):\n",
    "    \"\"\"Function to draw a football pitch with specified dimensions.\"\"\"\n",
    "    if ax is None:\n",
    "        fig, ax = plt.subplots(figsize=(12, 8))\n",
    "    \n",
    "    # Pitch Outline & Centre Line\n",
    "    ax.plot([0, 0, pitch_length, pitch_length, 0], [0, pitch_width, pitch_width, 0, 0], color=\"black\")\n",
    "    ax.plot([pitch_length/2, pitch_length/2], [0, pitch_width], color=\"black\")\n",
    "    \n",
    "    # Left Penalty Area\n",
    "    ax.plot([18, 18, 0, 0, 18], [62, 18, 18, 62, 62], color=\"black\")\n",
    "    # Right Penalty Area\n",
    "    ax.plot([pitch_length, pitch_length, pitch_length-18, pitch_length-18, pitch_length], \n",
    "            [62, 18, 18, 62, 62], color=\"black\")\n",
    "    \n",
    "    # Left 6-yard Box\n",
    "    ax.plot([6, 6, 0, 0, 6], [50, 30, 30, 50, 50], color=\"black\")\n",
    "    # Right 6-yard Box\n",
    "    ax.plot([pitch_length, pitch_length, pitch_length-6, pitch_length-6, pitch_length],\n",
    "            [50, 30, 30, 50, 50], color=\"black\")\n",
    "    \n",
    "    # Centre Circle\n",
    "    centre_circle = plt.Circle((pitch_length/2, pitch_width/2), 10, color=\"black\", fill=False)\n",
    "    ax.add_patch(centre_circle)\n",
    "    \n",
    "    # Penalty Spots\n",
    "    ax.plot([12, pitch_length-12], [pitch_width/2, pitch_width/2], marker='o', color='black', linestyle='None')\n",
    "    \n",
    "    # Remove axis labels and ticks\n",
    "    ax.set_xticks([])\n",
    "    ax.set_yticks([])\n",
    "    \n",
    "    # Set limits to the pitch size\n",
    "    ax.set_xlim(0, pitch_length)\n",
    "    ax.set_ylim(0, pitch_width)\n",
    "    \n",
    "    ax.set_aspect('equal')\n",
    "    return ax"
   ]
  },
  {
   "cell_type": "code",
   "execution_count": null,
   "id": "abdb18df",
   "metadata": {},
   "outputs": [],
   "source": [
    "#5. Shot Map on Football Pitch (Scatter Plot of 'x' and 'y')\n",
    "fig, ax = plt.subplots(figsize=(12, 8))\n",
    "ax = draw_pitch(ax)\n",
    "\n",
    "# Plot shots colored by xG\n",
    "sc = ax.scatter(df_xg['x'], df_xg['y'], c=df_xg['shot_xg'], cmap='coolwarm', alpha=0.7, edgecolors='k')\n",
    "\n",
    "plt.colorbar(sc, label='xG Value')\n",
    "plt.title('Shot Map on Football Pitch')\n",
    "plt.show()"
   ]
  },
  {
   "cell_type": "code",
   "execution_count": null,
   "id": "9a71b81a",
   "metadata": {},
   "outputs": [],
   "source": [
    "#6. Boxplot: Feature vs. Shot XG\n",
    "features = [ 'body_part', 'shot_type', 'under_pressure']\n",
    "\n",
    "fig, axes = plt.subplots(nrows=1, ncols=3, figsize=(12, 10))\n",
    "axes = axes.flatten()\n",
    "for i, feature in enumerate(features):\n",
    "    sns.boxplot(x=df_xg[feature],y=df_xg['shot_xg'],data=df_xg, ax=axes[i])\n",
    "    axes[i].set_title(f'Boxplot of {feature} vs shot_xg')\n",
    "    axes[i].set_xlabel(feature)\n",
    "    axes[i].set_ylabel('xG')"
   ]
  },
  {
   "cell_type": "code",
   "execution_count": null,
   "id": "9d931642",
   "metadata": {},
   "outputs": [],
   "source": [
    "#7. Joint Plot: Shot Distance vs. Shot XG\n",
    "sns.jointplot(data=df_xg, x='shot_distance', y='shot_xg', kind='scatter', hue='under_pressure', height=8)"
   ]
  }
 ],
 "metadata": {
  "kernelspec": {
   "display_name": "myenv",
   "language": "python",
   "name": "python3"
  },
  "language_info": {
   "codemirror_mode": {
    "name": "ipython",
    "version": 3
   },
   "file_extension": ".py",
   "mimetype": "text/x-python",
   "name": "python",
   "nbconvert_exporter": "python",
   "pygments_lexer": "ipython3",
   "version": "3.11.9"
  }
 },
 "nbformat": 4,
 "nbformat_minor": 5
}
