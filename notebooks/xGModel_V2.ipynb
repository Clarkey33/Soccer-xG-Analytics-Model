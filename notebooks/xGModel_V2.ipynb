{
 "cells": [
  {
   "cell_type": "code",
   "execution_count": 2,
   "id": "c8fe7e0d",
   "metadata": {},
   "outputs": [],
   "source": [
    "import os\n",
    "import json\n",
    "import shutil\n",
    "import sys\n",
    "sys.path.append(\"C:/Users/On3B3/OneDrive/Documents/Programming_Projects/xG_Model/src\")\n",
    "from DataTransformer import DataTransformer\n",
    "from features import ShotCalculations"
   ]
  },
  {
   "cell_type": "code",
   "execution_count": 2,
   "id": "b59aeb54",
   "metadata": {},
   "outputs": [],
   "source": [
    "#paths\n",
    "\n",
    "source_match_metadata = \"C:/Users/On3B3/OneDrive/Documents/Programming_Projects/xG_Model/open-data/data/matches/43/106.json\"\n",
    "source_event_data = \"C:/Users/On3B3/OneDrive/Documents/Programming_Projects/xG_Model/open-data/data/events\"\n",
    "target_folder = \"./data/raw\""
   ]
  },
  {
   "cell_type": "code",
   "execution_count": 3,
   "id": "56f08b07",
   "metadata": {},
   "outputs": [
    {
     "name": "stdout",
     "output_type": "stream",
     "text": [
      "c:\\Users\\On3B3\\OneDrive\\Documents\\Programming_Projects\\xG_Model\n"
     ]
    }
   ],
   "source": [
    "print(os.getcwd())\n",
    "#print(os.listdir(source_match_metadata))"
   ]
  },
  {
   "cell_type": "code",
   "execution_count": null,
   "id": "1cd60213",
   "metadata": {},
   "outputs": [],
   "source": []
  }
 ],
 "metadata": {
  "kernelspec": {
   "display_name": "myenv",
   "language": "python",
   "name": "python3"
  },
  "language_info": {
   "codemirror_mode": {
    "name": "ipython",
    "version": 3
   },
   "file_extension": ".py",
   "mimetype": "text/x-python",
   "name": "python",
   "nbconvert_exporter": "python",
   "pygments_lexer": "ipython3",
   "version": "3.11.9"
  }
 },
 "nbformat": 4,
 "nbformat_minor": 5
}
