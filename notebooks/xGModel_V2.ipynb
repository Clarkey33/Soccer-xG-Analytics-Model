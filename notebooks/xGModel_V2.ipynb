{
 "cells": [
  {
   "cell_type": "code",
   "execution_count": 2,
   "id": "c8fe7e0d",
   "metadata": {},
   "outputs": [],
   "source": [
    "import os\n",
    "import json\n",
    "import shutil\n",
    "import sys\n",
    "sys.path.append(\"C:/Users/On3B3/OneDrive/Documents/Programming_Projects/xG_Model/src\")\n",
    "from DataTransformer import DataTransformer\n",
    "from features import ShotCalculations"
   ]
  },
  {
   "cell_type": "code",
   "execution_count": 3,
   "id": "b59aeb54",
   "metadata": {},
   "outputs": [],
   "source": [
    "#paths\n",
    "\n",
    "#metadata_path = \"C:/Users/On3B3/OneDrive/Documents/Programming_Projects/open-data/data/matches/55/282.json\"\n",
    "#metadata_base_path = \"../../../open-data/data/matches\"\n",
    "metadata_base_path= \"C:/Users/On3B3/OneDrive/Documents/Programming_Projects/open-data/data/matches\"\n",
    "\n",
    "#event_path = \"C:/Users/On3B3/OneDrive/Documents/Programming_Projects/open-data/data/events\"\n",
    "#event_base_path = \"../../open-data/data/events\"\n",
    "event_base_path = \"C:/Users/On3B3/OneDrive/Documents/Programming_Projects/open-data/data/events\"\n",
    "raw_output_path = \"../data/raw\"\n",
    "processed_output_path = \"../data/processed\"\n"
   ]
  },
  {
   "cell_type": "code",
   "execution_count": 4,
   "id": "56f08b07",
   "metadata": {},
   "outputs": [
    {
     "name": "stdout",
     "output_type": "stream",
     "text": [
      "c:\\Users\\On3B3\\OneDrive\\Documents\\Programming_Projects\\xG_Model\\notebooks\n"
     ]
    }
   ],
   "source": [
    "print(os.getcwd())\n",
    "#print(os.listdir(source_match_metadata))"
   ]
  },
  {
   "cell_type": "code",
   "execution_count": 5,
   "id": "a5476627",
   "metadata": {},
   "outputs": [
    {
     "name": "stdout",
     "output_type": "stream",
     "text": [
      "Processing competition: wc_2018..\n",
      "Found 64 matches.\n",
      "Done copying event files to ../data/raw\\wc_2018_events\n",
      "Total files copied: 64\n",
      "Total shots found: 1706\n",
      "Saved shot data to: ../data/processed\\wc_2018_shots.csv\n",
      "Processing competition: wc_2022..\n",
      "Found 64 matches.\n",
      "Done copying event files to ../data/raw\\wc_2022_events\n",
      "Total files copied: 64\n",
      "Total shots found: 1494\n",
      "Saved shot data to: ../data/processed\\wc_2022_shots.csv\n",
      "Processing competition: euro_2020..\n",
      "Found 51 matches.\n",
      "Done copying event files to ../data/raw\\euro_2020_events\n",
      "Total files copied: 51\n",
      "Total shots found: 1289\n",
      "Saved shot data to: ../data/processed\\euro_2020_shots.csv\n",
      "Processing competition: euro_2024..\n",
      "Found 51 matches.\n",
      "Done copying event files to ../data/raw\\euro_2024_events\n",
      "Total files copied: 51\n",
      "Total shots found: 1340\n",
      "Saved shot data to: ../data/processed\\euro_2024_shots.csv\n",
      "Processing competition: copa_am_2024..\n",
      "Found 32 matches.\n",
      "Done copying event files to ../data/raw\\copa_am_2024_events\n",
      "Total files copied: 32\n",
      "Total shots found: 790\n",
      "Saved shot data to: ../data/processed\\copa_am_2024_shots.csv\n",
      "Processing competition: afcon_2023..\n",
      "Found 52 matches.\n",
      "Done copying event files to ../data/raw\\afcon_2023_events\n",
      "Total files copied: 52\n",
      "Total shots found: 1244\n",
      "Saved shot data to: ../data/processed\\afcon_2023_shots.csv\n"
     ]
    }
   ],
   "source": [
    "#tournaments to extract\n",
    "competitions = {\n",
    "    \"wc_2018\":(43,3),\n",
    "    \"wc_2022\":(43,106),\n",
    "    \"euro_2020\":(55,43), \n",
    "    \"euro_2024\":(55, 282),\n",
    "    \"copa_am_2024\":(223,282),\n",
    "    \"afcon_2023\":(1267, 107)\n",
    "}\n",
    "\n",
    "for name, (comp_id, season_id) in competitions.items():\n",
    "    print(f\"Processing competition: {name}..\")\n",
    "\n",
    "    metadata_path = os.path.join(metadata_base_path,f'{comp_id}',f'{season_id}.json')\n",
    "    raw_event_path = os.path.join(raw_output_path,f'{name}_events')\n",
    "    processed_event_path = os.path.join(processed_output_path,f'{name}_shots.csv')\n",
    "\n",
    "    transformer = DataTransformer(\n",
    "        source_metadata=metadata_path,\n",
    "        target_folder=raw_event_path,\n",
    "        source_event_data=event_base_path\n",
    "    )\n",
    "\n",
    "    transformer.get_match_ids()\n",
    "    transformer.get_match_events()\n",
    "    transformer.create_dataframe(save_path=processed_event_path)\n"
   ]
  },
  {
   "cell_type": "code",
   "execution_count": null,
   "id": "1cd60213",
   "metadata": {},
   "outputs": [],
   "source": []
  },
  {
   "cell_type": "code",
   "execution_count": null,
   "id": "6a595330",
   "metadata": {},
   "outputs": [],
   "source": []
  }
 ],
 "metadata": {
  "kernelspec": {
   "display_name": "myenv",
   "language": "python",
   "name": "python3"
  },
  "language_info": {
   "codemirror_mode": {
    "name": "ipython",
    "version": 3
   },
   "file_extension": ".py",
   "mimetype": "text/x-python",
   "name": "python",
   "nbconvert_exporter": "python",
   "pygments_lexer": "ipython3",
   "version": "3.11.9"
  }
 },
 "nbformat": 4,
 "nbformat_minor": 5
}
