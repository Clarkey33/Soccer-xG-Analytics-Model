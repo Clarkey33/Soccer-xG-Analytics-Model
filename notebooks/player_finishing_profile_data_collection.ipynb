{
 "cells": [
  {
   "cell_type": "markdown",
   "id": "35a23d56",
   "metadata": {},
   "source": [
    "# Data Collection "
   ]
  },
  {
   "cell_type": "code",
   "execution_count": 2,
   "id": "d1fc244b",
   "metadata": {},
   "outputs": [],
   "source": [
    "#libraries\n",
    "import os\n",
    "import sys\n",
    "import pandas as pd \n",
    "import numpy as np\n",
    "\n",
    "sys.path.append(\"C:/Users/On3B3/OneDrive/Documents/Programming_Projects/xG_Model/src\")\n",
    "from DataTransformer import DataTransformer\n",
    "from features import ShotCalculations"
   ]
  },
  {
   "cell_type": "code",
   "execution_count": 3,
   "id": "97c1358b",
   "metadata": {},
   "outputs": [],
   "source": [
    "#paths\n",
    "metadata_base_path= \"C:/Users/On3B3/OneDrive/Documents/Programming_Projects/open-data/data/matches\"\n",
    "event_base_path = \"C:/Users/On3B3/OneDrive/Documents/Programming_Projects/open-data/data/events\"\n",
    "raw_output_path = \"../data/raw\"\n",
    "processed_output_path = \"../data/processed\""
   ]
  },
  {
   "cell_type": "code",
   "execution_count": 5,
   "id": "5a9d1bdd",
   "metadata": {},
   "outputs": [
    {
     "name": "stdout",
     "output_type": "stream",
     "text": [
      "Processing competition: ligue1_21_22..\n",
      "Found 26 matches.\n",
      "Done copying event files to ../data/raw\\ligue1_21_22_events\n",
      "Total files copied: 26\n",
      "Total shots found: 681\n",
      "Saved shot data to: ../data/processed\\ligue1_21_22_shots.csv\n",
      "Processing competition: ligue1_22_23..\n",
      "Found 32 matches.\n",
      "Done copying event files to ../data/raw\\ligue1_22_23_events\n",
      "Total files copied: 32\n",
      "Total shots found: 851\n",
      "Saved shot data to: ../data/processed\\ligue1_22_23_shots.csv\n"
     ]
    }
   ],
   "source": [
    "#tournaments to extract\n",
    "seasons = {\n",
    "    \"ligue1_21_22\":(7,108),\n",
    "    \"ligue1_22_23\":(7,235)\n",
    "}\n",
    "\n",
    "for name, (comp_id, season_id) in seasons.items():\n",
    "    print(f\"Processing competition: {name}..\")\n",
    "\n",
    "    metadata_path = os.path.join(metadata_base_path,f'{comp_id}',f'{season_id}.json')\n",
    "    raw_event_path = os.path.join(raw_output_path,f'{name}_events')\n",
    "    processed_event_path = os.path.join(processed_output_path,f'{name}_shots.csv')\n",
    "\n",
    "    transformer = DataTransformer(\n",
    "        source_metadata=metadata_path,\n",
    "        target_folder=raw_event_path,\n",
    "        source_event_data=event_base_path\n",
    "    )\n",
    "\n",
    "    transformer.get_match_ids()\n",
    "    transformer.get_match_events()\n",
    "    transformer.create_dataframe(save_path=processed_event_path)\n"
   ]
  }
 ],
 "metadata": {
  "kernelspec": {
   "display_name": "myenv",
   "language": "python",
   "name": "python3"
  },
  "language_info": {
   "codemirror_mode": {
    "name": "ipython",
    "version": 3
   },
   "file_extension": ".py",
   "mimetype": "text/x-python",
   "name": "python",
   "nbconvert_exporter": "python",
   "pygments_lexer": "ipython3",
   "version": "3.11.9"
  }
 },
 "nbformat": 4,
 "nbformat_minor": 5
}
