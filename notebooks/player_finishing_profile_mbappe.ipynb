{
 "cells": [
  {
   "cell_type": "code",
   "execution_count": 1,
   "id": "e16cfa3b",
   "metadata": {},
   "outputs": [],
   "source": [
    "import os\n",
    "import joblib\n",
    "import pandas as pd\n",
    "import numpy as np\n",
    "import pathlib\n",
    "import sys"
   ]
  },
  {
   "cell_type": "code",
   "execution_count": 2,
   "id": "8a17289e",
   "metadata": {},
   "outputs": [],
   "source": [
    "#load model\n",
    "file_path = pathlib.Path('../models/prediction_model_V1.joblib')\n",
    "if os.path.exists(file_path):\n",
    "    prediction_model = joblib.load(file_path)"
   ]
  },
  {
   "cell_type": "code",
   "execution_count": 3,
   "id": "2cba4cd8",
   "metadata": {},
   "outputs": [
    {
     "data": {
      "text/plain": [
       "(222, 12)"
      ]
     },
     "execution_count": 3,
     "metadata": {},
     "output_type": "execute_result"
    }
   ],
   "source": [
    "df= pd.read_csv('../data/processed/mbappe_shot_events.csv')\n",
    "df.shape"
   ]
  },
  {
   "cell_type": "code",
   "execution_count": 4,
   "id": "d9bcff8e",
   "metadata": {},
   "outputs": [
    {
     "data": {
      "text/plain": [
       "Index(['play_pattern', '1v1_shot', 'shot_xg', 'shot_technique', 'body_part',\n",
       "       'shot_type', 'shot_outcome', 'under_pressure', 'aerial_shot_won',\n",
       "       'first_time_shot', 'shot_distance', 'shot_angle'],\n",
       "      dtype='object')"
      ]
     },
     "execution_count": 4,
     "metadata": {},
     "output_type": "execute_result"
    }
   ],
   "source": [
    "#predict xG\n",
    "df.columns"
   ]
  },
  {
   "cell_type": "code",
   "execution_count": 5,
   "id": "89805cd9",
   "metadata": {},
   "outputs": [
    {
     "name": "stdout",
     "output_type": "stream",
     "text": [
      "play_pattern       0.0\n",
      "1v1_shot           0.0\n",
      "shot_xg            0.0\n",
      "shot_technique     0.0\n",
      "body_part          0.0\n",
      "shot_type          0.0\n",
      "shot_outcome       0.0\n",
      "under_pressure     0.0\n",
      "aerial_shot_won    0.0\n",
      "first_time_shot    0.0\n",
      "shot_distance      0.0\n",
      "shot_angle         0.0\n",
      "dtype: float64\n",
      "\n",
      " Data types in dataset \n",
      "play_pattern        object\n",
      "1v1_shot             int64\n",
      "shot_xg            float64\n",
      "shot_technique      object\n",
      "body_part           object\n",
      "shot_type           object\n",
      "shot_outcome        object\n",
      "under_pressure       int64\n",
      "aerial_shot_won      int64\n",
      "first_time_shot      int64\n",
      "shot_distance      float64\n",
      "shot_angle         float64\n",
      "dtype: object\n"
     ]
    }
   ],
   "source": [
    "#confirm no missing values\n",
    "print(df.isna().mean()*100)\n",
    "\n",
    "#confirm data types\n",
    "print(f\"\\n Data types in dataset \\n{df.dtypes}\")"
   ]
  },
  {
   "cell_type": "code",
   "execution_count": 6,
   "id": "0e16f5a0",
   "metadata": {},
   "outputs": [
    {
     "name": "stdout",
     "output_type": "stream",
     "text": [
      "\n",
      "Data types for categorical features : \n",
      "shot_type          category\n",
      "body_part          category\n",
      "first_time_shot    category\n",
      "1v1_shot           category\n",
      "under_pressure     category\n",
      "aerial_shot_won    category\n",
      "play_pattern       category\n",
      "shot_technique     category\n",
      "dtype: object\n"
     ]
    }
   ],
   "source": [
    "sys.path.append(\"C:/Users/On3B3/OneDrive/Documents/Programming_Projects/xG_Model/src\")\n",
    "#import user-defined Class for shot calculations\n",
    "from helperFunctions import typeToCategory\n",
    "\n",
    "\n",
    "#categorical features\n",
    "cat_features =['shot_type','body_part','first_time_shot','1v1_shot',\n",
    "               'under_pressure','aerial_shot_won',\n",
    "               'play_pattern','shot_technique'\n",
    "               ]\n",
    "\n",
    "X= df.copy() \n",
    "#Change to category\n",
    "X=typeToCategory(X,cat_features)"
   ]
  },
  {
   "cell_type": "code",
   "execution_count": 7,
   "id": "d01eff0a",
   "metadata": {},
   "outputs": [],
   "source": [
    "X['shot_type'] = X['shot_type'].cat.rename_categories({'Free Kick': 'set pieces'})"
   ]
  },
  {
   "cell_type": "code",
   "execution_count": 8,
   "id": "95f4f48c",
   "metadata": {},
   "outputs": [
    {
     "data": {
      "text/plain": [
       "shot_type\n",
       "Open Play     214\n",
       "Penalty         7\n",
       "set pieces      1\n",
       "Name: count, dtype: int64"
      ]
     },
     "execution_count": 8,
     "metadata": {},
     "output_type": "execute_result"
    }
   ],
   "source": [
    "X['shot_type'].value_counts()"
   ]
  },
  {
   "cell_type": "code",
   "execution_count": 9,
   "id": "d718f759",
   "metadata": {},
   "outputs": [],
   "source": [
    "#creating binary target feature\n",
    "X['goal'] = X['shot_outcome'].apply(lambda x: 1 if x == \"Goal\" else 0)\n",
    "df_x= X.drop(columns=['shot_outcome'], axis=1)"
   ]
  },
  {
   "cell_type": "code",
   "execution_count": 10,
   "id": "d8322bbb",
   "metadata": {},
   "outputs": [
    {
     "name": "stdout",
     "output_type": "stream",
     "text": [
      "Numeric features: ['shot_xg', 'shot_distance', 'shot_angle', 'goal']\n",
      "\n",
      "Categorical features: ['play_pattern', '1v1_shot', 'shot_technique', 'body_part', 'shot_type', 'under_pressure', 'aerial_shot_won', 'first_time_shot']\n",
      "\n",
      " All features for modeling: ['play_pattern', '1v1_shot', 'shot_technique', 'body_part', 'shot_type', 'under_pressure', 'aerial_shot_won', 'first_time_shot', 'shot_distance', 'shot_angle']\n"
     ]
    }
   ],
   "source": [
    "numeric_features= X.select_dtypes(include=['int64', 'float64']).columns.tolist()\n",
    "\n",
    "# Print numeric features to verify\n",
    "print(\"Numeric features:\", numeric_features)\n",
    "\n",
    "\n",
    "# Get categorical features (non-numeric features)\n",
    "categorical_features = df_x.select_dtypes(include=['category']).columns.tolist()\n",
    "print(\"\\nCategorical features:\", categorical_features)\n",
    "\n",
    "features= [f for f in df_x.columns.tolist() if f != 'goal' and f!= 'shot_xg']\n",
    "print(f\"\\n All features for modeling:\", features)"
   ]
  },
  {
   "cell_type": "markdown",
   "id": "2aa2d675",
   "metadata": {},
   "source": [
    "['play_pattern', 'shot_technique', 'body_part', 'shot_type', 'under_pressure', 'aerial_shot_won', 'first_time_shot', '1v1_shot', 'shot_distance', 'shot_angle']"
   ]
  },
  {
   "cell_type": "code",
   "execution_count": null,
   "id": "7c9d6c78",
   "metadata": {},
   "outputs": [],
   "source": []
  },
  {
   "cell_type": "code",
   "execution_count": 11,
   "id": "c742e308",
   "metadata": {},
   "outputs": [],
   "source": [
    "predicted_xG=prediction_model.predict_proba(df_x)[:,1].round(2)\n"
   ]
  },
  {
   "cell_type": "code",
   "execution_count": 12,
   "id": "61b2e185",
   "metadata": {},
   "outputs": [
    {
     "name": "stdout",
     "output_type": "stream",
     "text": [
      "222\n"
     ]
    }
   ],
   "source": [
    "print(len(predicted_xG))"
   ]
  },
  {
   "cell_type": "code",
   "execution_count": 15,
   "id": "09ab5789",
   "metadata": {},
   "outputs": [
    {
     "name": "stdout",
     "output_type": "stream",
     "text": [
      "\n",
      "Mbappe's actual goals: 49\n",
      "\n",
      "Mbappe's total xG: 29.48\n",
      "\n",
      "Mbappe's actual xG: 38.52\n"
     ]
    }
   ],
   "source": [
    "mbappe_actual_goals=df_x['goal'].sum()\n",
    "mbappe_sum_xG= predicted_xG.sum()\n",
    "mbappe_actual_xg = X['shot_xg'].sum()\n",
    "print(f\"\\nMbappe's actual goals: {mbappe_actual_goals}\")\n",
    "print(f\"\\nMbappe's total xG: {mbappe_sum_xG}\")\n",
    "print(f\"\\nMbappe's actual xG: {mbappe_actual_xg:.2f}\")"
   ]
  },
  {
   "cell_type": "code",
   "execution_count": 16,
   "id": "e4530a34",
   "metadata": {},
   "outputs": [],
   "source": [
    "import seaborn as sns\n",
    "import matplotlib.pyplot as plt"
   ]
  },
  {
   "cell_type": "code",
   "execution_count": 18,
   "id": "0dda0428",
   "metadata": {},
   "outputs": [
    {
     "data": {
      "text/plain": [
       "<Axes: xlabel='shot_xg'>"
      ]
     },
     "execution_count": 18,
     "metadata": {},
     "output_type": "execute_result"
    },
    {
     "data": {
      "image/png": "[encoded data removed]",
      "text/plain": [
       "<Figure size 640x480 with 1 Axes>"
      ]
     },
     "metadata": {},
     "output_type": "display_data"
    }
   ],
   "source": [
    "sns.scatterplot(x=X['shot_xg'], y=predicted_xG, hue=X['goal'], alpha=0.5)"
   ]
  }
 ],
 "metadata": {
  "kernelspec": {
   "display_name": "myenv",
   "language": "python",
   "name": "python3"
  },
  "language_info": {
   "codemirror_mode": {
    "name": "ipython",
    "version": 3
   },
   "file_extension": ".py",
   "mimetype": "text/x-python",
   "name": "python",
   "nbconvert_exporter": "python",
   "pygments_lexer": "ipython3",
   "version": "3.11.9"
  }
 },
 "nbformat": 4,
 "nbformat_minor": 5
}
