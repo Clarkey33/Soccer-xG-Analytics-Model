{
 "cells": [
  {
   "cell_type": "code",
   "execution_count": 1,
   "id": "c8fe7e0d",
   "metadata": {},
   "outputs": [],
   "source": [
    "import os\n",
    "import json\n",
    "import shutil\n"
   ]
  },
  {
   "cell_type": "code",
   "execution_count": 2,
   "id": "b59aeb54",
   "metadata": {},
   "outputs": [],
   "source": [
    "#paths\n",
    "\n",
    "source_match_metadata = \"C:/Users/On3B3/OneDrive/Documents/Programming_Projects/xG_Model/open-data/data/matches/43/106.json\"\n",
    "source_event_data = \"C:/Users/On3B3/OneDrive/Documents/Programming_Projects/xG_Model/open-data/data/events\"\n",
    "target_folder = \"./data/raw\""
   ]
  },
  {
   "cell_type": "code",
   "execution_count": 3,
   "id": "56f08b07",
   "metadata": {},
   "outputs": [
    {
     "name": "stdout",
     "output_type": "stream",
     "text": [
      "c:\\Users\\On3B3\\OneDrive\\Documents\\Programming_Projects\\xG_Model\n"
     ]
    }
   ],
   "source": [
    "print(os.getcwd())\n",
    "#print(os.listdir(source_match_metadata))"
   ]
  },
  {
   "cell_type": "code",
   "execution_count": null,
   "id": "9486684b",
   "metadata": {},
   "outputs": [
    {
     "name": "stdout",
     "output_type": "stream",
     "text": [
      "found 64 World Cup 2022 matches\n"
     ]
    }
   ],
   "source": [
    "#step 1. get all match_ids from the World Cup 2022\n",
    "match_ids = []\n",
    "\n",
    "if not os.path.exists(source_match_metadata):\n",
    "    raise FileNotFoundError(f\"Source directory {source_match_metadata} does not exist.\")\n",
    "\n",
    "with open(source_match_metadata, \"r\", encoding= \"utf-8\")as f:\n",
    "    try:\n",
    "        matches = json.load(f)\n",
    "        for match in matches:\n",
    "            match_ids.append(str(match[\"match_id\"]))\n",
    "    except json.JSONDecodeError as e:\n",
    "        print(f\"Error reading {source_match_metadata}: {e}\")\n",
    "        exit(1)\n",
    "\n",
    "print(f\"found {len(match_ids)} World Cup 2022 matches\")\n",
    "#expected: 64 matches\n",
    "\n"
   ]
  },
  {
   "cell_type": "code",
   "execution_count": 9,
   "id": "884fff6f",
   "metadata": {},
   "outputs": [
    {
     "name": "stdout",
     "output_type": "stream",
     "text": [
      "Copied 3857256.json to ./data/raw\n",
      "Copied 3869151.json to ./data/raw\n",
      "Copied 3857257.json to ./data/raw\n",
      "Copied 3857258.json to ./data/raw\n",
      "Copied 3857288.json to ./data/raw\n",
      "Copied 3857267.json to ./data/raw\n",
      "Copied 3869321.json to ./data/raw\n",
      "Copied 3857287.json to ./data/raw\n",
      "Copied 3869486.json to ./data/raw\n",
      "Copied 3869685.json to ./data/raw\n",
      "Copied 3857260.json to ./data/raw\n",
      "Copied 3857264.json to ./data/raw\n",
      "Copied 3857266.json to ./data/raw\n",
      "Copied 3857289.json to ./data/raw\n",
      "Copied 3857269.json to ./data/raw\n",
      "Copied 3857294.json to ./data/raw\n",
      "Copied 3869254.json to ./data/raw\n",
      "Copied 3869118.json to ./data/raw\n",
      "Copied 3869684.json to ./data/raw\n",
      "Copied 3869519.json to ./data/raw\n",
      "Copied 3869354.json to ./data/raw\n",
      "Copied 3869552.json to ./data/raw\n",
      "Copied 3869420.json to ./data/raw\n",
      "Copied 3869220.json to ./data/raw\n",
      "Copied 3869219.json to ./data/raw\n",
      "Copied 3869253.json to ./data/raw\n",
      "Copied 3869152.json to ./data/raw\n",
      "Copied 3869117.json to ./data/raw\n",
      "Copied 3857270.json to ./data/raw\n",
      "Copied 3857263.json to ./data/raw\n",
      "Copied 3857259.json to ./data/raw\n",
      "Copied 3857295.json to ./data/raw\n",
      "Copied 3857283.json to ./data/raw\n",
      "Copied 3857284.json to ./data/raw\n",
      "Copied 3857282.json to ./data/raw\n",
      "Copied 3857286.json to ./data/raw\n",
      "Copied 3857301.json to ./data/raw\n",
      "Copied 3857300.json to ./data/raw\n",
      "Copied 3857299.json to ./data/raw\n",
      "Copied 3857298.json to ./data/raw\n",
      "Copied 3857297.json to ./data/raw\n",
      "Copied 3857296.json to ./data/raw\n",
      "Copied 3857293.json to ./data/raw\n",
      "Copied 3857292.json to ./data/raw\n",
      "Copied 3857291.json to ./data/raw\n",
      "Copied 3857290.json to ./data/raw\n",
      "Copied 3857285.json to ./data/raw\n",
      "Copied 3857281.json to ./data/raw\n",
      "Copied 3857280.json to ./data/raw\n",
      "Copied 3857279.json to ./data/raw\n",
      "Copied 3857278.json to ./data/raw\n",
      "Copied 3857277.json to ./data/raw\n",
      "Copied 3857276.json to ./data/raw\n",
      "Copied 3857275.json to ./data/raw\n",
      "Copied 3857274.json to ./data/raw\n",
      "Copied 3857273.json to ./data/raw\n",
      "Copied 3857272.json to ./data/raw\n",
      "Copied 3857271.json to ./data/raw\n",
      "Copied 3857268.json to ./data/raw\n",
      "Copied 3857265.json to ./data/raw\n",
      "Copied 3857262.json to ./data/raw\n",
      "Copied 3857261.json to ./data/raw\n",
      "Copied 3857255.json to ./data/raw\n",
      "Copied 3857254.json to ./data/raw\n",
      " Done copying  World Cup 2022 event data to target folder.\n",
      " Number of files in./data/raw: 64\n"
     ]
    }
   ],
   "source": [
    "#Step 2. copy all event data for the World Cup 2022 matches\n",
    "os.makedirs(target_folder, exist_ok=True)\n",
    "\n",
    "for match_id in match_ids:\n",
    "    filename = match_id + \".json\"\n",
    "    src = os.path.join(source_event_data, filename)\n",
    "    dst = os.path.join(target_folder, filename)\n",
    "\n",
    "    if os.path.exists(src):\n",
    "        shutil.copy(src,dst)\n",
    "        print(f\"Copied {filename} to {target_folder}\")\n",
    "    else:\n",
    "        print(f\"Missing {filename} in source directory, skipping...\")\n",
    "\n",
    "print(\" Done copying  World Cup 2022 event data to target folder.\")\n",
    "print(f\" Number of files in{target_folder}: {len(os.listdir(target_folder))}\")"
   ]
  },
  {
   "cell_type": "code",
   "execution_count": 8,
   "id": "b552621d",
   "metadata": {},
   "outputs": [
    {
     "name": "stdout",
     "output_type": "stream",
     "text": [
      " Number of files in./data/raw: 64\n"
     ]
    }
   ],
   "source": [
    "print(f\" Number of files in{target_folder}: {len(os.listdir(target_folder))}\")"
   ]
  },
  {
   "cell_type": "code",
   "execution_count": null,
   "id": "1cd60213",
   "metadata": {},
   "outputs": [],
   "source": []
  }
 ],
 "metadata": {
  "kernelspec": {
   "display_name": "myenv",
   "language": "python",
   "name": "python3"
  },
  "language_info": {
   "codemirror_mode": {
    "name": "ipython",
    "version": 3
   },
   "file_extension": ".py",
   "mimetype": "text/x-python",
   "name": "python",
   "nbconvert_exporter": "python",
   "pygments_lexer": "ipython3",
   "version": "3.11.9"
  }
 },
 "nbformat": 4,
 "nbformat_minor": 5
}
