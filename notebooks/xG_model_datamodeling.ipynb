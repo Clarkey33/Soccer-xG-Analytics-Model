{
 "cells": [
  {
   "cell_type": "markdown",
   "id": "602cb371",
   "metadata": {},
   "source": [
    "# Data Modeling "
   ]
  },
  {
   "cell_type": "code",
   "execution_count": 5,
   "id": "3e72153e",
   "metadata": {},
   "outputs": [],
   "source": [
    "#libraries required\n",
    "import pandas as pd \n",
    "import numpy as np\n",
    "import os\n",
    "import sys"
   ]
  },
  {
   "cell_type": "code",
   "execution_count": 8,
   "id": "20428a70",
   "metadata": {},
   "outputs": [
    {
     "name": "stdout",
     "output_type": "stream",
     "text": [
      "Dataset has 1494 rows and 9 columns\n",
      "None\n"
     ]
    }
   ],
   "source": [
    "#load dataset\n",
    "file_path = \"../data/processed/shot_events_processed.csv\"\n",
    "\n",
    "df= pd.read_csv(file_path)\n",
    "\n",
    "print(print(f\"Dataset has {df.shape[0]} rows and {df.shape[1]} columns\"))"
   ]
  },
  {
   "cell_type": "code",
   "execution_count": 12,
   "id": "f2176ef7",
   "metadata": {},
   "outputs": [
    {
     "name": "stdout",
     "output_type": "stream",
     "text": [
      "shot_xg           0.0\n",
      "location          0.0\n",
      "body_part         0.0\n",
      "shot_type         0.0\n",
      "under_pressure    0.0\n",
      "x                 0.0\n",
      "y                 0.0\n",
      "shot_distance     0.0\n",
      "shot_angle        0.0\n",
      "dtype: float64\n",
      "\n",
      " Data types in dataset \n",
      "shot_xg           float64\n",
      "location           object\n",
      "body_part          object\n",
      "shot_type          object\n",
      "under_pressure      int64\n",
      "x                 float64\n",
      "y                 float64\n",
      "shot_distance     float64\n",
      "shot_angle        float64\n",
      "dtype: object\n"
     ]
    }
   ],
   "source": [
    "#confirm no missing values\n",
    "print(df.isna().mean()*100)\n",
    "\n",
    "#confirm data types\n",
    "print(f\"\\n Data types in dataset \\n{df.dtypes}\")"
   ]
  },
  {
   "cell_type": "code",
   "execution_count": 13,
   "id": "508cc65e",
   "metadata": {},
   "outputs": [
    {
     "data": {
      "text/plain": [
       "Index(['shot_xg', 'location', 'body_part', 'shot_type', 'under_pressure', 'x',\n",
       "       'y', 'shot_distance', 'shot_angle'],\n",
       "      dtype='object')"
      ]
     },
     "execution_count": 13,
     "metadata": {},
     "output_type": "execute_result"
    }
   ],
   "source": [
    "df.columns"
   ]
  },
  {
   "cell_type": "code",
   "execution_count": 17,
   "id": "727e6a26",
   "metadata": {},
   "outputs": [
    {
     "name": "stdout",
     "output_type": "stream",
     "text": [
      "\n",
      " Unique values in 'under_pressure': \n",
      "[0 1]\n",
      "\n",
      " Unique values in 'shot_type': \n",
      "['Open Play' 'Corner' 'Free Kick' 'Penalty']\n",
      "\n",
      " Unique values in 'body_part' \n",
      "['Right Foot' 'Left Foot' 'Head' 'Other']\n"
     ]
    }
   ],
   "source": [
    "#examine features: under_presusre, shot_type, body_part\n",
    "\n",
    "#1. under_pressure\n",
    "print(f\"\\n Unique values in 'under_pressure': \\n{df['under_pressure'].unique()}\")\n",
    "\n",
    "#2. shot_type\n",
    "print(f\"\\n Unique values in 'shot_type': \\n{df['shot_type'].unique()}\")\n",
    "\n",
    "#3. body_part\n",
    "print(f\"\\n Unique values in 'body_part' \\n{df['body_part'].unique()}\")"
   ]
  },
  {
   "cell_type": "code",
   "execution_count": 18,
   "id": "d9aa58ce",
   "metadata": {},
   "outputs": [
    {
     "name": "stdout",
     "output_type": "stream",
     "text": [
      "\n",
      "Data types for 'under_pressure','shot_type','body_part' : \n",
      "under_pressure    category\n",
      "shot_type         category\n",
      "body_part         category\n",
      "dtype: object\n"
     ]
    }
   ],
   "source": [
    "#convert categorical features to category\n",
    "\n",
    "#1. under_pressure\n",
    "df['under_pressure'] = df['under_pressure'].astype('category')\n",
    "\n",
    "#2. shot_type\n",
    "df['shot_type'] = df['shot_type'].astype('category')\n",
    "\n",
    "#3.body_part\n",
    "df['body_part'] = df['body_part'].astype('category')\n",
    "\n",
    "#validate changes \n",
    "print(f\"\\nData types for 'under_pressure','shot_type','body_part' : \\n{df[['under_pressure','shot_type','body_part']].dtypes}\")\n",
    "\n"
   ]
  },
  {
   "cell_type": "code",
   "execution_count": null,
   "id": "57b39bdb",
   "metadata": {},
   "outputs": [],
   "source": []
  }
 ],
 "metadata": {
  "kernelspec": {
   "display_name": "myenv",
   "language": "python",
   "name": "python3"
  },
  "language_info": {
   "codemirror_mode": {
    "name": "ipython",
    "version": 3
   },
   "file_extension": ".py",
   "mimetype": "text/x-python",
   "name": "python",
   "nbconvert_exporter": "python",
   "pygments_lexer": "ipython3",
   "version": "3.11.9"
  }
 },
 "nbformat": 4,
 "nbformat_minor": 5
}
