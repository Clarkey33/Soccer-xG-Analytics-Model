{
 "cells": [
  {
   "cell_type": "markdown",
   "id": "602cb371",
   "metadata": {},
   "source": [
    "# Data Modeling "
   ]
  },
  {
   "cell_type": "code",
   "execution_count": 1,
   "id": "3e72153e",
   "metadata": {},
   "outputs": [],
   "source": [
    "#libraries required\n",
    "import pandas as pd \n",
    "import numpy as np\n",
    "import os\n",
    "import sys"
   ]
  },
  {
   "cell_type": "code",
   "execution_count": 2,
   "id": "0acac38b",
   "metadata": {},
   "outputs": [],
   "source": [
    "#globally set column display options\n",
    "pd.options.display.max_columns = None\n",
    "pd.options.display.max_rows = None"
   ]
  },
  {
   "cell_type": "code",
   "execution_count": 3,
   "id": "20428a70",
   "metadata": {},
   "outputs": [
    {
     "name": "stdout",
     "output_type": "stream",
     "text": [
      "Dataset has 1494 rows and 23 columns\n"
     ]
    }
   ],
   "source": [
    "#load dataset\n",
    "file_path = \"../data/processed/shot_events_processed.csv\"\n",
    "\n",
    "df= pd.read_csv(file_path)\n",
    "\n",
    "print(f\"Dataset has {df.shape[0]} rows and {df.shape[1]} columns\")"
   ]
  },
  {
   "cell_type": "code",
   "execution_count": 4,
   "id": "f2176ef7",
   "metadata": {},
   "outputs": [
    {
     "name": "stdout",
     "output_type": "stream",
     "text": [
      "location                 0.0\n",
      "type_event               0.0\n",
      "play_pattern             0.0\n",
      "shot_xg                  0.0\n",
      "shot_end_location        0.0\n",
      "shot_type                0.0\n",
      "shot_outcome             0.0\n",
      "shot_technique           0.0\n",
      "body_part                0.0\n",
      "first_time_shot          0.0\n",
      "1v1_shot                 0.0\n",
      "under_pressure           0.0\n",
      "aerial_shot_won          0.0\n",
      "open_goal_shot           0.0\n",
      "deflected_shot           0.0\n",
      "shot_saved_to_post       0.0\n",
      "shot_follows_dribble     0.0\n",
      "shot_saved_off_target    0.0\n",
      "shot_redirected          0.0\n",
      "x_coordinate             0.0\n",
      "y_coordinate             0.0\n",
      "shot_distance            0.0\n",
      "shot_angle               0.0\n",
      "dtype: float64\n",
      "\n",
      " Data types in dataset \n",
      "location                  object\n",
      "type_event                object\n",
      "play_pattern              object\n",
      "shot_xg                  float64\n",
      "shot_end_location         object\n",
      "shot_type                 object\n",
      "shot_outcome              object\n",
      "shot_technique            object\n",
      "body_part                 object\n",
      "first_time_shot            int64\n",
      "1v1_shot                   int64\n",
      "under_pressure             int64\n",
      "aerial_shot_won            int64\n",
      "open_goal_shot             int64\n",
      "deflected_shot             int64\n",
      "shot_saved_to_post         int64\n",
      "shot_follows_dribble       int64\n",
      "shot_saved_off_target      int64\n",
      "shot_redirected            int64\n",
      "x_coordinate             float64\n",
      "y_coordinate             float64\n",
      "shot_distance            float64\n",
      "shot_angle               float64\n",
      "dtype: object\n"
     ]
    }
   ],
   "source": [
    "#confirm no missing values\n",
    "print(df.isna().mean()*100)\n",
    "\n",
    "#confirm data types\n",
    "print(f\"\\n Data types in dataset \\n{df.dtypes}\")"
   ]
  },
  {
   "cell_type": "code",
   "execution_count": 5,
   "id": "508cc65e",
   "metadata": {},
   "outputs": [
    {
     "data": {
      "text/plain": [
       "Index(['location', 'type_event', 'play_pattern', 'shot_xg',\n",
       "       'shot_end_location', 'shot_type', 'shot_outcome', 'shot_technique',\n",
       "       'body_part', 'first_time_shot', '1v1_shot', 'under_pressure',\n",
       "       'aerial_shot_won', 'open_goal_shot', 'deflected_shot',\n",
       "       'shot_saved_to_post', 'shot_follows_dribble', 'shot_saved_off_target',\n",
       "       'shot_redirected', 'x_coordinate', 'y_coordinate', 'shot_distance',\n",
       "       'shot_angle'],\n",
       "      dtype='object')"
      ]
     },
     "execution_count": 5,
     "metadata": {},
     "output_type": "execute_result"
    }
   ],
   "source": [
    "df.columns"
   ]
  },
  {
   "cell_type": "code",
   "execution_count": 6,
   "id": "727e6a26",
   "metadata": {},
   "outputs": [],
   "source": [
    "#change categorical features to type category: \n",
    "\n",
    "def typeToCategory(df,features):\n",
    "    \"\"\"Changes given features data type to category\n",
    "        args:\n",
    "        Dataframe and List of features\n",
    "\n",
    "        Returns Dataframe    \n",
    "    \"\"\"\n",
    "    if not isinstance(df, pd.DataFrame) or not isinstance(features,list):\n",
    "        raise ValueError(\"Invalid input types. Expects Dataframe and list\")\n",
    "    \n",
    "    try:\n",
    "        for f in features:\n",
    "            df[f] = df[f].astype('category')\n",
    "        \n",
    "        #validate changes \n",
    "        print(f\"\\nData types for categorical features : \\n{df[features].dtypes}\")\n",
    "        return df\n",
    "    except Exception as e:\n",
    "        print(f\"Error processing features:  {str(e)}\")\n",
    "        return None\n",
    "        \n"
   ]
  },
  {
   "cell_type": "code",
   "execution_count": 7,
   "id": "1cef1329",
   "metadata": {},
   "outputs": [
    {
     "name": "stdout",
     "output_type": "stream",
     "text": [
      "\n",
      "Data types for categorical features : \n",
      "shot_type                category\n",
      "body_part                category\n",
      "first_time_shot          category\n",
      "1v1_shot                 category\n",
      "shot_outcome             category\n",
      "under_pressure           category\n",
      "aerial_shot_won          category\n",
      "open_goal_shot           category\n",
      "deflected_shot           category\n",
      "shot_saved_to_post       category\n",
      "shot_follows_dribble     category\n",
      "shot_saved_off_target    category\n",
      "shot_redirected          category\n",
      "play_pattern             category\n",
      "shot_technique           category\n",
      "dtype: object\n"
     ]
    }
   ],
   "source": [
    "#categorical features\n",
    "cat_features =['shot_type','body_part','first_time_shot','1v1_shot','shot_outcome',\n",
    "               'under_pressure','aerial_shot_won','open_goal_shot','deflected_shot',\n",
    "               'shot_saved_to_post','shot_follows_dribble','shot_saved_off_target','shot_redirected',\n",
    "               'play_pattern','shot_technique',\n",
    "               ]\n",
    "#Change to category\n",
    "df_xg=typeToCategory(df,cat_features)"
   ]
  },
  {
   "cell_type": "code",
   "execution_count": 8,
   "id": "57b39bdb",
   "metadata": {},
   "outputs": [
    {
     "data": {
      "text/html": [
       "<div>\n",
       "<style scoped>\n",
       "    .dataframe tbody tr th:only-of-type {\n",
       "        vertical-align: middle;\n",
       "    }\n",
       "\n",
       "    .dataframe tbody tr th {\n",
       "        vertical-align: top;\n",
       "    }\n",
       "\n",
       "    .dataframe thead th {\n",
       "        text-align: right;\n",
       "    }\n",
       "</style>\n",
       "<table border=\"1\" class=\"dataframe\">\n",
       "  <thead>\n",
       "    <tr style=\"text-align: right;\">\n",
       "      <th></th>\n",
       "      <th>location</th>\n",
       "      <th>type_event</th>\n",
       "      <th>play_pattern</th>\n",
       "      <th>shot_xg</th>\n",
       "      <th>shot_end_location</th>\n",
       "      <th>shot_type</th>\n",
       "      <th>shot_outcome</th>\n",
       "      <th>shot_technique</th>\n",
       "      <th>body_part</th>\n",
       "      <th>first_time_shot</th>\n",
       "      <th>1v1_shot</th>\n",
       "      <th>under_pressure</th>\n",
       "      <th>aerial_shot_won</th>\n",
       "      <th>open_goal_shot</th>\n",
       "      <th>deflected_shot</th>\n",
       "      <th>shot_saved_to_post</th>\n",
       "      <th>shot_follows_dribble</th>\n",
       "      <th>shot_saved_off_target</th>\n",
       "      <th>shot_redirected</th>\n",
       "      <th>x_coordinate</th>\n",
       "      <th>y_coordinate</th>\n",
       "      <th>shot_distance</th>\n",
       "      <th>shot_angle</th>\n",
       "    </tr>\n",
       "  </thead>\n",
       "  <tbody>\n",
       "    <tr>\n",
       "      <th>0</th>\n",
       "      <td>[92.6, 52.0]</td>\n",
       "      <td>Shot</td>\n",
       "      <td>From Goal Kick</td>\n",
       "      <td>0.023820</td>\n",
       "      <td>[101.1, 47.5]</td>\n",
       "      <td>Open Play</td>\n",
       "      <td>Blocked</td>\n",
       "      <td>Normal</td>\n",
       "      <td>Right Foot</td>\n",
       "      <td>0</td>\n",
       "      <td>0</td>\n",
       "      <td>0</td>\n",
       "      <td>0</td>\n",
       "      <td>0</td>\n",
       "      <td>0</td>\n",
       "      <td>0</td>\n",
       "      <td>0</td>\n",
       "      <td>0</td>\n",
       "      <td>0</td>\n",
       "      <td>92.6</td>\n",
       "      <td>52.0</td>\n",
       "      <td>29.912539</td>\n",
       "      <td>0.223755</td>\n",
       "    </tr>\n",
       "    <tr>\n",
       "      <th>1</th>\n",
       "      <td>[114.0, 54.8]</td>\n",
       "      <td>Shot</td>\n",
       "      <td>Regular Play</td>\n",
       "      <td>0.014060</td>\n",
       "      <td>[114.6, 53.3]</td>\n",
       "      <td>Open Play</td>\n",
       "      <td>Blocked</td>\n",
       "      <td>Normal</td>\n",
       "      <td>Left Foot</td>\n",
       "      <td>0</td>\n",
       "      <td>0</td>\n",
       "      <td>0</td>\n",
       "      <td>0</td>\n",
       "      <td>0</td>\n",
       "      <td>0</td>\n",
       "      <td>0</td>\n",
       "      <td>0</td>\n",
       "      <td>0</td>\n",
       "      <td>0</td>\n",
       "      <td>114.0</td>\n",
       "      <td>54.8</td>\n",
       "      <td>15.969972</td>\n",
       "      <td>0.179792</td>\n",
       "    </tr>\n",
       "    <tr>\n",
       "      <th>2</th>\n",
       "      <td>[93.4, 44.5]</td>\n",
       "      <td>Shot</td>\n",
       "      <td>From Throw In</td>\n",
       "      <td>0.033115</td>\n",
       "      <td>[98.1, 43.9]</td>\n",
       "      <td>Open Play</td>\n",
       "      <td>Blocked</td>\n",
       "      <td>Normal</td>\n",
       "      <td>Right Foot</td>\n",
       "      <td>0</td>\n",
       "      <td>0</td>\n",
       "      <td>0</td>\n",
       "      <td>0</td>\n",
       "      <td>0</td>\n",
       "      <td>0</td>\n",
       "      <td>0</td>\n",
       "      <td>0</td>\n",
       "      <td>0</td>\n",
       "      <td>0</td>\n",
       "      <td>93.4</td>\n",
       "      <td>44.5</td>\n",
       "      <td>26.977954</td>\n",
       "      <td>0.266085</td>\n",
       "    </tr>\n",
       "    <tr>\n",
       "      <th>3</th>\n",
       "      <td>[114.7, 29.6]</td>\n",
       "      <td>Shot</td>\n",
       "      <td>From Corner</td>\n",
       "      <td>0.043661</td>\n",
       "      <td>[120.0, 43.4, 3.8]</td>\n",
       "      <td>Open Play</td>\n",
       "      <td>Off T</td>\n",
       "      <td>Normal</td>\n",
       "      <td>Head</td>\n",
       "      <td>0</td>\n",
       "      <td>0</td>\n",
       "      <td>0</td>\n",
       "      <td>0</td>\n",
       "      <td>0</td>\n",
       "      <td>0</td>\n",
       "      <td>0</td>\n",
       "      <td>0</td>\n",
       "      <td>0</td>\n",
       "      <td>0</td>\n",
       "      <td>114.7</td>\n",
       "      <td>29.6</td>\n",
       "      <td>11.672618</td>\n",
       "      <td>0.305878</td>\n",
       "    </tr>\n",
       "    <tr>\n",
       "      <th>4</th>\n",
       "      <td>[115.3, 32.5]</td>\n",
       "      <td>Shot</td>\n",
       "      <td>From Corner</td>\n",
       "      <td>0.124033</td>\n",
       "      <td>[116.0, 33.8]</td>\n",
       "      <td>Open Play</td>\n",
       "      <td>Blocked</td>\n",
       "      <td>Volley</td>\n",
       "      <td>Right Foot</td>\n",
       "      <td>1</td>\n",
       "      <td>0</td>\n",
       "      <td>0</td>\n",
       "      <td>0</td>\n",
       "      <td>0</td>\n",
       "      <td>0</td>\n",
       "      <td>0</td>\n",
       "      <td>0</td>\n",
       "      <td>0</td>\n",
       "      <td>0</td>\n",
       "      <td>115.3</td>\n",
       "      <td>32.5</td>\n",
       "      <td>8.850989</td>\n",
       "      <td>0.487160</td>\n",
       "    </tr>\n",
       "  </tbody>\n",
       "</table>\n",
       "</div>"
      ],
      "text/plain": [
       "        location type_event    play_pattern   shot_xg   shot_end_location  \\\n",
       "0   [92.6, 52.0]       Shot  From Goal Kick  0.023820       [101.1, 47.5]   \n",
       "1  [114.0, 54.8]       Shot    Regular Play  0.014060       [114.6, 53.3]   \n",
       "2   [93.4, 44.5]       Shot   From Throw In  0.033115        [98.1, 43.9]   \n",
       "3  [114.7, 29.6]       Shot     From Corner  0.043661  [120.0, 43.4, 3.8]   \n",
       "4  [115.3, 32.5]       Shot     From Corner  0.124033       [116.0, 33.8]   \n",
       "\n",
       "   shot_type shot_outcome shot_technique   body_part first_time_shot 1v1_shot  \\\n",
       "0  Open Play      Blocked         Normal  Right Foot               0        0   \n",
       "1  Open Play      Blocked         Normal   Left Foot               0        0   \n",
       "2  Open Play      Blocked         Normal  Right Foot               0        0   \n",
       "3  Open Play        Off T         Normal        Head               0        0   \n",
       "4  Open Play      Blocked         Volley  Right Foot               1        0   \n",
       "\n",
       "  under_pressure aerial_shot_won open_goal_shot deflected_shot  \\\n",
       "0              0               0              0              0   \n",
       "1              0               0              0              0   \n",
       "2              0               0              0              0   \n",
       "3              0               0              0              0   \n",
       "4              0               0              0              0   \n",
       "\n",
       "  shot_saved_to_post shot_follows_dribble shot_saved_off_target  \\\n",
       "0                  0                    0                     0   \n",
       "1                  0                    0                     0   \n",
       "2                  0                    0                     0   \n",
       "3                  0                    0                     0   \n",
       "4                  0                    0                     0   \n",
       "\n",
       "  shot_redirected  x_coordinate  y_coordinate  shot_distance  shot_angle  \n",
       "0               0          92.6          52.0      29.912539    0.223755  \n",
       "1               0         114.0          54.8      15.969972    0.179792  \n",
       "2               0          93.4          44.5      26.977954    0.266085  \n",
       "3               0         114.7          29.6      11.672618    0.305878  \n",
       "4               0         115.3          32.5       8.850989    0.487160  "
      ]
     },
     "execution_count": 8,
     "metadata": {},
     "output_type": "execute_result"
    }
   ],
   "source": [
    "#Feature selection\n",
    "df_xg.head()"
   ]
  },
  {
   "cell_type": "markdown",
   "id": "57f5c054",
   "metadata": {},
   "source": [
    "The following features will not be included as predictors; \n",
    "1.  location - as is not useful in logistic regression model\n",
    "2.  type_event - no variance in data type\n",
    "3.  shot_xg - will be used for comparison of predicted value\n",
    "4.  x_coordinate\n",
    "5.  y_coordinate\n",
    "6.  shot_end_location - as is not useful but can be engineered to derive where shot ended. (data leakage in training)\n",
    "7.  shot_outcome - this is target value to be predicted (will convert to binary 1-goal, 0-no goal)\n",
    "8.  shot_saved_to_post - describes what happens after the shot is taken (potential data leakage)\n",
    "9.  shot_saved_off_target - describes what happens after the shot is taken (potential data leakage)\n",
    "10. shot redirected - low variance (less than 1%)\n",
    "11. shot deflected - low variance (less than 2%)\n",
    "12. shot_follows_dribble - low variability (less than 2%)\n",
    "\n",
    "to further narrow the list\n"
   ]
  },
  {
   "cell_type": "code",
   "execution_count": 9,
   "id": "de8d20f3",
   "metadata": {},
   "outputs": [
    {
     "data": {
      "text/plain": [
       "location                   object\n",
       "type_event                 object\n",
       "play_pattern             category\n",
       "shot_xg                   float64\n",
       "shot_end_location          object\n",
       "shot_type                category\n",
       "shot_outcome             category\n",
       "shot_technique           category\n",
       "body_part                category\n",
       "first_time_shot          category\n",
       "1v1_shot                 category\n",
       "under_pressure           category\n",
       "aerial_shot_won          category\n",
       "open_goal_shot           category\n",
       "deflected_shot           category\n",
       "shot_saved_to_post       category\n",
       "shot_follows_dribble     category\n",
       "shot_saved_off_target    category\n",
       "shot_redirected          category\n",
       "x_coordinate              float64\n",
       "y_coordinate              float64\n",
       "shot_distance             float64\n",
       "shot_angle                float64\n",
       "dtype: object"
      ]
     },
     "execution_count": 9,
     "metadata": {},
     "output_type": "execute_result"
    }
   ],
   "source": [
    "df_xg.dtypes"
   ]
  },
  {
   "cell_type": "code",
   "execution_count": 10,
   "id": "0551e15f",
   "metadata": {},
   "outputs": [
    {
     "name": "stdout",
     "output_type": "stream",
     "text": [
      "\n",
      "play_pattern: play_pattern\n",
      "Regular Play      450\n",
      "From Throw In     297\n",
      "From Free Kick    285\n",
      "From Corner       223\n",
      "From Goal Kick     80\n",
      "Other              68\n",
      "From Counter       57\n",
      "From Keeper        17\n",
      "From Kick Off      17\n",
      "Name: count, dtype: int64\n",
      "\n",
      "shot_type: shot_type\n",
      "Open Play    1382\n",
      "Penalty        64\n",
      "Free Kick      46\n",
      "Corner          2\n",
      "Name: count, dtype: int64\n",
      "\n",
      "shot_outcome: shot_outcome\n",
      "Off T               448\n",
      "Blocked             379\n",
      "Saved               346\n",
      "Goal                195\n",
      "Wayward              85\n",
      "Post                 36\n",
      "Saved to Post         3\n",
      "Saved Off Target      2\n",
      "Name: count, dtype: int64\n",
      "\n",
      "shot_technique: shot_technique\n",
      "Normal           1151\n",
      "Half Volley       212\n",
      "Volley             92\n",
      "Diving Header      14\n",
      "Lob                13\n",
      "Overhead Kick       7\n",
      "Backheel            5\n",
      "Name: count, dtype: int64\n",
      "\n",
      "body_part: body_part\n",
      "Right Foot    780\n",
      "Left Foot     449\n",
      "Head          252\n",
      "Other          13\n",
      "Name: count, dtype: int64\n",
      "\n",
      "first_time_shot: first_time_shot\n",
      "0    1026\n",
      "1     468\n",
      "Name: count, dtype: int64\n",
      "\n",
      "1v1_shot: 1v1_shot\n",
      "0    1409\n",
      "1      85\n",
      "Name: count, dtype: int64\n",
      "\n",
      "under_pressure: under_pressure\n",
      "0    1256\n",
      "1     238\n",
      "Name: count, dtype: int64\n",
      "\n",
      "aerial_shot_won: aerial_shot_won\n",
      "0    1365\n",
      "1     129\n",
      "Name: count, dtype: int64\n",
      "\n",
      "open_goal_shot: open_goal_shot\n",
      "0    1481\n",
      "1      13\n",
      "Name: count, dtype: int64\n",
      "\n",
      "deflected_shot: deflected_shot\n",
      "0    1472\n",
      "1      22\n",
      "Name: count, dtype: int64\n",
      "\n",
      "shot_saved_to_post: shot_saved_to_post\n",
      "0    1491\n",
      "1       3\n",
      "Name: count, dtype: int64\n",
      "\n",
      "shot_follows_dribble: shot_follows_dribble\n",
      "0    1491\n",
      "1       3\n",
      "Name: count, dtype: int64\n",
      "\n",
      "shot_saved_off_target: shot_saved_off_target\n",
      "0    1492\n",
      "1       2\n",
      "Name: count, dtype: int64\n",
      "\n",
      "shot_redirected: shot_redirected\n",
      "0    1492\n",
      "1       2\n",
      "Name: count, dtype: int64\n"
     ]
    }
   ],
   "source": [
    "for f in df_xg.columns:\n",
    "    if df_xg[f].dtypes == 'category':\n",
    "        print(f\"\\n{f}: {df_xg[f].value_counts()}\")"
   ]
  },
  {
   "cell_type": "code",
   "execution_count": 11,
   "id": "7493dec6",
   "metadata": {},
   "outputs": [
    {
     "name": "stdout",
     "output_type": "stream",
     "text": [
      "Verify target feature created: goal\n",
      "0    1299\n",
      "1     195\n",
      "Name: count, dtype: int64\n",
      "\n",
      "Data type for feature goal: category\n"
     ]
    }
   ],
   "source": [
    "#creating binary target feature\n",
    "df_xg['goal'] = df_xg['shot_outcome'].apply(lambda x: 1 if x == \"Goal\" else 0)\n",
    "\n",
    "#change type to category\n",
    "df_xg['goal']= df_xg['goal'].astype('category')\n",
    "\n",
    "#Verify creation of binary target feature\n",
    "print(f\"Verify target feature created: {df_xg['goal'].value_counts()}\")\n",
    "\n",
    "#Verify type changed\n",
    "print(f\"\\nData type for feature goal: {df_xg['goal'].dtypes}\")"
   ]
  },
  {
   "cell_type": "code",
   "execution_count": 12,
   "id": "941dc790",
   "metadata": {},
   "outputs": [],
   "source": [
    "df_xg= df_xg[['play_pattern','shot_type','shot_technique',\n",
    "       'body_part', 'first_time_shot', '1v1_shot', 'under_pressure',\n",
    "       'aerial_shot_won', 'open_goal_shot','shot_distance','shot_angle', 'goal']]"
   ]
  },
  {
   "cell_type": "code",
   "execution_count": 13,
   "id": "8cca2cef",
   "metadata": {},
   "outputs": [
    {
     "name": "stdout",
     "output_type": "stream",
     "text": [
      "Numeric features: ['shot_distance', 'shot_angle']\n",
      "\n",
      "Categorical features: ['play_pattern', 'shot_type', 'shot_technique', 'body_part', 'first_time_shot', '1v1_shot', 'under_pressure', 'aerial_shot_won', 'open_goal_shot']\n",
      "\n",
      " All features for modeling: ['play_pattern', 'shot_type', 'shot_technique', 'body_part', 'first_time_shot', '1v1_shot', 'under_pressure', 'aerial_shot_won', 'open_goal_shot', 'shot_distance', 'shot_angle']\n"
     ]
    }
   ],
   "source": [
    "numeric_features= df_xg.select_dtypes(include=['int64', 'float64']).columns.tolist()\n",
    "\n",
    "# Print numeric features to verify\n",
    "print(\"Numeric features:\", numeric_features)\n",
    "\n",
    "#target feature\n",
    "target = df_xg['goal']\n",
    "\n",
    "# Get categorical features (non-numeric features)\n",
    "categorical_features = df_xg.select_dtypes(include=['category']).columns.tolist()\n",
    "categorical_features = [f for f in categorical_features if f != 'goal']\n",
    "print(\"\\nCategorical features:\", categorical_features)\n",
    "\n",
    "features= [f for f in df_xg.columns if f != 'goal']\n",
    "print(f\"\\n All features for modeling:\", features)\n"
   ]
  },
  {
   "cell_type": "code",
   "execution_count": 14,
   "id": "e489eaf2",
   "metadata": {},
   "outputs": [
    {
     "name": "stdout",
     "output_type": "stream",
     "text": [
      " Verify change in shot_type: \n",
      "shot_type\n",
      "Open Play     1382\n",
      "Penalty         64\n",
      "set pieces      48\n",
      "Name: count, dtype: int64\n"
     ]
    },
    {
     "name": "stderr",
     "output_type": "stream",
     "text": [
      "C:\\Users\\On3B3\\AppData\\Local\\Temp\\ipykernel_43084\\1463596409.py:6: FutureWarning: The behavior of Series.replace (and DataFrame.replace) with CategoricalDtype is deprecated. In a future version, replace will only be used for cases that preserve the categories. To change the categories, use ser.cat.rename_categories instead.\n",
      "  df[feature] = df[feature].replace(rare_categories, name)\n",
      "C:\\Users\\On3B3\\AppData\\Local\\Temp\\ipykernel_43084\\1463596409.py:6: SettingWithCopyWarning: \n",
      "A value is trying to be set on a copy of a slice from a DataFrame.\n",
      "Try using .loc[row_indexer,col_indexer] = value instead\n",
      "\n",
      "See the caveats in the documentation: https://pandas.pydata.org/pandas-docs/stable/user_guide/indexing.html#returning-a-view-versus-a-copy\n",
      "  df[feature] = df[feature].replace(rare_categories, name)\n"
     ]
    }
   ],
   "source": [
    "#Manage low category in shot type\n",
    "def combine_rare_categories(df, feature, min_samples=10, name='other'):\n",
    "    \"\"\"Combine categories with fewer than min_samples into 'Other'\"\"\"\n",
    "    value_counts = df[feature].value_counts()\n",
    "    rare_categories = value_counts[value_counts < min_samples].index\n",
    "    df[feature] = df[feature].replace(rare_categories, name)\n",
    "    return df\n",
    "\n",
    "# Apply to shot type before train/test split\n",
    "combine_rare_categories(df_xg, 'shot_type', min_samples=50, name='set pieces')\n",
    "\n",
    "#verify change\n",
    "print(f\" Verify change in shot_type: \\n{df_xg['shot_type'].value_counts()}\")"
   ]
  },
  {
   "cell_type": "code",
   "execution_count": 15,
   "id": "088dce1c",
   "metadata": {},
   "outputs": [],
   "source": [
    "#train/test split\n",
    "\n",
    "#import library\n",
    "from sklearn.model_selection import train_test_split"
   ]
  },
  {
   "cell_type": "code",
   "execution_count": 16,
   "id": "fdb6b486",
   "metadata": {},
   "outputs": [],
   "source": [
    "X= df_xg[features]\n",
    "y= target"
   ]
  },
  {
   "cell_type": "code",
   "execution_count": 17,
   "id": "edb2bb54",
   "metadata": {},
   "outputs": [
    {
     "name": "stdout",
     "output_type": "stream",
     "text": [
      "\n",
      "Number of records in X_train: 0.75\n",
      "\n",
      "Number of records in X_test: 0.25\n",
      "\n",
      "Number of records in y_train: 0.75\n",
      "\n",
      "Number of records in y_test: 0.25\n"
     ]
    }
   ],
   "source": [
    "#split data on 75/25 ratio\n",
    "X_train,X_test, y_train, y_test = train_test_split(X,y, stratify=y, test_size=.25,random_state=42)\n",
    "\n",
    "#Verify split successful\n",
    "print(f\"\\nNumber of records in X_train: {len(X_train)/len(df_xg):.2f}\")\n",
    "print(f\"\\nNumber of records in X_test: {len(X_test)/len(df_xg):.2f}\")\n",
    "print(f\"\\nNumber of records in y_train: {len(y_train)/len(df_xg):.2f}\")\n",
    "print(f\"\\nNumber of records in y_test: {len(y_test)/len(df_xg):.2f}\")"
   ]
  },
  {
   "cell_type": "code",
   "execution_count": 18,
   "id": "3580f9a9",
   "metadata": {},
   "outputs": [],
   "source": [
    "#create preprocessing pipeline\n",
    "\n",
    "#import libraries\n",
    "from sklearn.compose import ColumnTransformer\n",
    "from sklearn.preprocessing import StandardScaler, OneHotEncoder\n",
    "from sklearn.linear_model import LogisticRegression\n",
    "from sklearn.pipeline import Pipeline"
   ]
  },
  {
   "cell_type": "code",
   "execution_count": 19,
   "id": "fa6d8886",
   "metadata": {},
   "outputs": [],
   "source": [
    "#building preprocessing pipeline \n",
    "\n",
    "#preprocessing pipeline\n",
    "transformer = ColumnTransformer([\n",
    "    (\"scaler\",StandardScaler(),numeric_features),\n",
    "    (\"encoder\",OneHotEncoder(drop=\"first\"),categorical_features)\n",
    "])\n",
    "\n",
    "#Model pipeline\n",
    "\n",
    "pipe = Pipeline([\n",
    "    (\"preprocess\",transformer),\n",
    "    (\"lgr\",LogisticRegression(class_weight=\"balanced\"))\n",
    "])"
   ]
  },
  {
   "cell_type": "code",
   "execution_count": 20,
   "id": "e3177660",
   "metadata": {},
   "outputs": [],
   "source": [
    "#Model validation using Cross validation\n",
    "\n",
    "#import library\n",
    "from sklearn.model_selection import cross_val_score"
   ]
  },
  {
   "cell_type": "code",
   "execution_count": 21,
   "id": "f189cbee",
   "metadata": {},
   "outputs": [
    {
     "name": "stdout",
     "output_type": "stream",
     "text": [
      "CV AUC Scores: [0.84615385 0.80848806 0.86012378 0.856145   0.80180412]\n",
      "Mean CV AUC: 0.8345429644416491\n"
     ]
    }
   ],
   "source": [
    "#estimate performance of model: cross val= 5\n",
    "model_est_peformance = cross_val_score(\n",
    "    pipe,\n",
    "    X_train,\n",
    "    y_train,\n",
    "    cv=5,\n",
    "    scoring='roc_auc'\n",
    ")\n",
    "\n",
    "print(\"CV AUC Scores:\",model_est_peformance)\n",
    "print(\"Mean CV AUC:\", model_est_peformance.mean())"
   ]
  },
  {
   "cell_type": "code",
   "execution_count": 25,
   "id": "5dcef702",
   "metadata": {},
   "outputs": [],
   "source": [
    "#Evaluate Train performance\n",
    "\n",
    "#library required\n",
    "from sklearn.metrics import roc_auc_score, classification_report, confusion_matrix, roc_curve\n",
    "\n",
    "import matplotlib.pyplot as plt"
   ]
  },
  {
   "cell_type": "code",
   "execution_count": 26,
   "id": "aebb4f98",
   "metadata": {},
   "outputs": [],
   "source": [
    "#fit pipelne on model\n",
    "pipe.fit(X_train, y_train)\n",
    "\n",
    "#make predictions using X_tran\n",
    "y_train_pred = pipe.predict(X_train)\n",
    "\n",
    "#get prediction probalities of class 1 (goal)\n",
    "y_train_proba = pipe.predict_proba(X_train)[:,1]"
   ]
  },
  {
   "cell_type": "code",
   "execution_count": 36,
   "id": "133388f9",
   "metadata": {},
   "outputs": [
    {
     "name": "stdout",
     "output_type": "stream",
     "text": [
      "\n",
      "Classification report:\n",
      "              precision    recall  f1-score   support\n",
      "\n",
      "           0       0.96      0.79      0.87       974\n",
      "           1       0.36      0.80      0.50       146\n",
      "\n",
      "    accuracy                           0.79      1120\n",
      "   macro avg       0.66      0.79      0.68      1120\n",
      "weighted avg       0.89      0.79      0.82      1120\n",
      "\n",
      "\n",
      "Confusion Matrix: \n",
      "[[767 207]\n",
      " [ 29 117]]\n",
      "ROC AUC Train Score: 0.87\n"
     ]
    },
    {
     "data": {
      "image/png": "[encoded data removed]",
      "text/plain": [
       "<Figure size 640x480 with 1 Axes>"
      ]
     },
     "metadata": {},
     "output_type": "display_data"
    }
   ],
   "source": [
    "#get classification report\n",
    "classif_report= classification_report(y_train,y_train_pred)\n",
    "print(f'\\nClassification report:\\n{classif_report}')\n",
    "\n",
    "#get confusion matrix\n",
    "confu_matrix = confusion_matrix(y_train,y_train_pred)\n",
    "print(f\"\\nConfusion Matrix: \\n{confu_matrix}\")\n",
    "\n",
    "#create df for confusion matrix\n",
    "df_cm = pd.DataFrame(confu_matrix, index=[\"No Goal\",\"Goal\"], columns=[\"No Goal\",\"Goal\"])\n",
    "\n",
    "#ger ROC_AUC score\n",
    "roc_auc_train=roc_auc_score(y_train, y_train_proba)\n",
    "print(f\"ROC AUC Train Score: {roc_auc_train:.2f}\")\n",
    "\n",
    "#get ROC Curve\n",
    "false_pr,true_pr, _ =roc_curve(y_train,y_train_proba)\n",
    "plt.plot(false_pr,true_pr,label=f\"AUC = {roc_auc_train:.2f}\")\n",
    "plt.plot([0,1],[0,1], linestyle='--', color='gray')\n",
    "plt.xlabel(\"False Positive Rate\")\n",
    "plt.ylabel(\"True Positive Rate\")\n",
    "plt.title(\"Train ROC Curve\")\n",
    "plt.legend()\n",
    "plt.grid(True)\n",
    "plt.show()"
   ]
  },
  {
   "cell_type": "code",
   "execution_count": 37,
   "id": "351a05fe",
   "metadata": {},
   "outputs": [
    {
     "data": {
      "image/png": "[encoded data removed]",
      "text/plain": [
       "<Figure size 1000x700 with 2 Axes>"
      ]
     },
     "metadata": {},
     "output_type": "display_data"
    }
   ],
   "source": [
    "#library\n",
    "import seaborn as sns\n",
    "\n",
    "#plot heatmap\n",
    "plt.figure(figsize=(10,7))\n",
    "sns.heatmap(df_cm, annot=True,fmt='.0f',cmap=\"Blues\")\n",
    "plt.xlabel(\"Predicted\")\n",
    "plt.ylabel(\"True\")\n",
    "plt.show()"
   ]
  },
  {
   "cell_type": "code",
   "execution_count": 38,
   "id": "f185db0a",
   "metadata": {},
   "outputs": [],
   "source": [
    "#Test predictions\n",
    "\n",
    "#make predictions using X_tran\n",
    "y_test_pred = pipe.predict(X_test)\n",
    "\n",
    "#get prediction probalities of class 1 (goal)\n",
    "y_test_proba = pipe.predict_proba(X_test)[:,1]"
   ]
  },
  {
   "cell_type": "code",
   "execution_count": 45,
   "id": "403eacb4",
   "metadata": {},
   "outputs": [
    {
     "name": "stdout",
     "output_type": "stream",
     "text": [
      "\n",
      "Classification report Test:\n",
      "              precision    recall  f1-score   support\n",
      "\n",
      "           0       0.94      0.78      0.85       325\n",
      "           1       0.31      0.67      0.43        49\n",
      "\n",
      "    accuracy                           0.76       374\n",
      "   macro avg       0.63      0.72      0.64       374\n",
      "weighted avg       0.86      0.76      0.79       374\n",
      "\n",
      "\n",
      "Confusion Matrix for Test: \n",
      "[[767 207]\n",
      " [ 29 117]]\n",
      "ROC AUC Test Score: 0.76\n"
     ]
    },
    {
     "data": {
      "image/png": "[encoded data removed]",
      "text/plain": [
       "<Figure size 640x480 with 1 Axes>"
      ]
     },
     "metadata": {},
     "output_type": "display_data"
    }
   ],
   "source": [
    "#get classification report\n",
    "classif_report_test= classification_report(y_test,y_test_pred)\n",
    "print(f'\\nClassification report Test:\\n{classif_report_test}')\n",
    "\n",
    "#get confusion matrix\n",
    "confu_matrix_test = confusion_matrix(y_test,y_test_pred)\n",
    "print(f\"\\nConfusion Matrix for Test: \\n{confu_matrix}\")\n",
    "\n",
    "#create df for confusion matrix\n",
    "df_cm_test = pd.DataFrame(confu_matrix_test, index=[\"No Goal\",\"Goal\"], columns=[\"No Goal\",\"Goal\"])\n",
    "\n",
    "#ger ROC_AUC score\n",
    "roc_auc_test=roc_auc_score(y_test, y_test_proba)\n",
    "print(f\"ROC AUC Test Score: {roc_auc_test:.2f}\")\n",
    "\n",
    "#get ROC Curve\n",
    "false_pos_r,true_pos_r, _ =roc_curve(y_test,y_test_proba)\n",
    "plt.plot(false_pos_r,true_pos_r,label=f\"AUC = {roc_auc_test:.2f}\")\n",
    "plt.plot([0,1],[0,1], linestyle='--', color='gray')\n",
    "plt.xlabel(\"False Positive Rate\")\n",
    "plt.ylabel(\"True Positive Rate\")\n",
    "plt.title(\"Train ROC Curve\")\n",
    "plt.legend()\n",
    "plt.grid(True)\n",
    "plt.show()"
   ]
  },
  {
   "cell_type": "code",
   "execution_count": 40,
   "id": "8dcaf38d",
   "metadata": {},
   "outputs": [
    {
     "data": {
      "image/png": "[encoded data removed]",
      "text/plain": [
       "<Figure size 1000x700 with 2 Axes>"
      ]
     },
     "metadata": {},
     "output_type": "display_data"
    }
   ],
   "source": [
    "#plot heatmap\n",
    "plt.figure(figsize=(10,7))\n",
    "sns.heatmap(df_cm_test, annot=True,fmt='.0f',cmap=\"Blues\")\n",
    "plt.xlabel(\"Predicted\")\n",
    "plt.ylabel(\"True\")\n",
    "plt.show()"
   ]
  },
  {
   "cell_type": "code",
   "execution_count": 41,
   "id": "8542e674",
   "metadata": {},
   "outputs": [],
   "source": [
    "#Hyperparameter tuning \n",
    "from sklearn.model_selection import GridSearchCV"
   ]
  },
  {
   "cell_type": "code",
   "execution_count": 55,
   "id": "a2e2f974",
   "metadata": {},
   "outputs": [],
   "source": [
    "#parameter grid for tuning \n",
    "param_grid = {\n",
    "    'lgr__C': [0.01,0.3,0.6,0.1,],\n",
    "    'lgr__penalty': ['l1', 'l2'],\n",
    "    'lgr__solver': ['liblinear', 'saga'],\n",
    "    'lgr__max_iter': [100, 200, 300],\n",
    "    'lgr__tol': [1e-3, 6e-4,1e-4],\n",
    "}\n",
    "\n",
    "#run grid search with cross validation \n",
    "grid_search = GridSearchCV(pipe, \n",
    "                           param_grid, \n",
    "                           cv=5, \n",
    "                           scoring='roc_auc',\n",
    "                           n_jobs=-1\n",
    "                           )"
   ]
  },
  {
   "cell_type": "code",
   "execution_count": 49,
   "id": "f632ff2d",
   "metadata": {},
   "outputs": [
    {
     "name": "stdout",
     "output_type": "stream",
     "text": [
      "Pipeline(steps=[('preprocess',\n",
      "                 ColumnTransformer(transformers=[('scaler', StandardScaler(),\n",
      "                                                  ['shot_distance',\n",
      "                                                   'shot_angle']),\n",
      "                                                 ('encoder',\n",
      "                                                  OneHotEncoder(drop='first'),\n",
      "                                                  ['play_pattern', 'shot_type',\n",
      "                                                   'shot_technique',\n",
      "                                                   'body_part',\n",
      "                                                   'first_time_shot',\n",
      "                                                   '1v1_shot', 'under_pressure',\n",
      "                                                   'aerial_shot_won',\n",
      "                                                   'open_goal_shot'])])),\n",
      "                ('lgr', LogisticRegression(class_weight='balanced'))])\n"
     ]
    }
   ],
   "source": [
    "print(pipe)"
   ]
  },
  {
   "cell_type": "code",
   "execution_count": 56,
   "id": "b3abe991",
   "metadata": {},
   "outputs": [
    {
     "name": "stdout",
     "output_type": "stream",
     "text": [
      "Best parameters for estimator: \n",
      "{'lgr__C': 0.6, 'lgr__max_iter': 100, 'lgr__penalty': 'l2', 'lgr__solver': 'liblinear', 'lgr__tol': 0.001}\n",
      "\n",
      " Best CV Score: 0.8337104742632648\n"
     ]
    },
    {
     "name": "stderr",
     "output_type": "stream",
     "text": [
      "c:\\Users\\On3B3\\anaconda3\\envs\\myenv\\Lib\\site-packages\\numpy\\ma\\core.py:2820: RuntimeWarning: invalid value encountered in cast\n",
      "  _data = np.array(data, dtype=dtype, copy=copy,\n"
     ]
    }
   ],
   "source": [
    "#fit grid search on training set\n",
    "grid_search.fit(X_train,y_train)\n",
    "\n",
    "#get best params\n",
    "best_params = grid_search.best_params_\n",
    "print(f\"Best parameters for estimator: \\n{grid_search.best_params_}\")\n",
    "\n",
    "print(\"\\n Best CV Score:\",grid_search.best_score_) #mean cross-validated score of the best estimator"
   ]
  }
 ],
 "metadata": {
  "kernelspec": {
   "display_name": "myenv",
   "language": "python",
   "name": "python3"
  },
  "language_info": {
   "codemirror_mode": {
    "name": "ipython",
    "version": 3
   },
   "file_extension": ".py",
   "mimetype": "text/x-python",
   "name": "python",
   "nbconvert_exporter": "python",
   "pygments_lexer": "ipython3",
   "version": "3.11.9"
  }
 },
 "nbformat": 4,
 "nbformat_minor": 5
}
