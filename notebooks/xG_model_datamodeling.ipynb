{
 "cells": [
  {
   "cell_type": "markdown",
   "id": "602cb371",
   "metadata": {},
   "source": [
    "# Data Modeling "
   ]
  },
  {
   "cell_type": "code",
   "execution_count": 43,
   "id": "3e72153e",
   "metadata": {},
   "outputs": [],
   "source": [
    "#libraries required\n",
    "import pandas as pd \n",
    "import numpy as np\n",
    "import os\n",
    "import sys"
   ]
  },
  {
   "cell_type": "code",
   "execution_count": 51,
   "id": "0acac38b",
   "metadata": {},
   "outputs": [],
   "source": [
    "#globally set column display options\n",
    "pd.options.display.max_columns = None\n",
    "pd.options.display.max_rows = None"
   ]
  },
  {
   "cell_type": "code",
   "execution_count": 45,
   "id": "20428a70",
   "metadata": {},
   "outputs": [
    {
     "name": "stdout",
     "output_type": "stream",
     "text": [
      "Dataset has 1494 rows and 23 columns\n"
     ]
    }
   ],
   "source": [
    "#load dataset\n",
    "file_path = \"../data/processed/shot_events_processed.csv\"\n",
    "\n",
    "df= pd.read_csv(file_path)\n",
    "\n",
    "print(f\"Dataset has {df.shape[0]} rows and {df.shape[1]} columns\")"
   ]
  },
  {
   "cell_type": "code",
   "execution_count": 46,
   "id": "f2176ef7",
   "metadata": {},
   "outputs": [
    {
     "name": "stdout",
     "output_type": "stream",
     "text": [
      "location                 0.0\n",
      "type_event               0.0\n",
      "play_pattern             0.0\n",
      "shot_xg                  0.0\n",
      "shot_end_location        0.0\n",
      "shot_type                0.0\n",
      "shot_outcome             0.0\n",
      "shot_technique           0.0\n",
      "body_part                0.0\n",
      "first_time_shot          0.0\n",
      "1v1_shot                 0.0\n",
      "under_pressure           0.0\n",
      "aerial_shot_won          0.0\n",
      "open_goal_shot           0.0\n",
      "deflected_shot           0.0\n",
      "shot_saved_to_post       0.0\n",
      "shot_follows_dribble     0.0\n",
      "shot_saved_off_target    0.0\n",
      "shot_redirected          0.0\n",
      "x_coordinate             0.0\n",
      "y_coordinate             0.0\n",
      "shot_distance            0.0\n",
      "shot_angle               0.0\n",
      "dtype: float64\n",
      "\n",
      " Data types in dataset \n",
      "location                  object\n",
      "type_event                object\n",
      "play_pattern              object\n",
      "shot_xg                  float64\n",
      "shot_end_location         object\n",
      "shot_type                 object\n",
      "shot_outcome              object\n",
      "shot_technique            object\n",
      "body_part                 object\n",
      "first_time_shot            int64\n",
      "1v1_shot                   int64\n",
      "under_pressure             int64\n",
      "aerial_shot_won            int64\n",
      "open_goal_shot             int64\n",
      "deflected_shot             int64\n",
      "shot_saved_to_post         int64\n",
      "shot_follows_dribble       int64\n",
      "shot_saved_off_target      int64\n",
      "shot_redirected            int64\n",
      "x_coordinate             float64\n",
      "y_coordinate             float64\n",
      "shot_distance            float64\n",
      "shot_angle               float64\n",
      "dtype: object\n"
     ]
    }
   ],
   "source": [
    "#confirm no missing values\n",
    "print(df.isna().mean()*100)\n",
    "\n",
    "#confirm data types\n",
    "print(f\"\\n Data types in dataset \\n{df.dtypes}\")"
   ]
  },
  {
   "cell_type": "code",
   "execution_count": 47,
   "id": "508cc65e",
   "metadata": {},
   "outputs": [
    {
     "data": {
      "text/plain": [
       "Index(['location', 'type_event', 'play_pattern', 'shot_xg',\n",
       "       'shot_end_location', 'shot_type', 'shot_outcome', 'shot_technique',\n",
       "       'body_part', 'first_time_shot', '1v1_shot', 'under_pressure',\n",
       "       'aerial_shot_won', 'open_goal_shot', 'deflected_shot',\n",
       "       'shot_saved_to_post', 'shot_follows_dribble', 'shot_saved_off_target',\n",
       "       'shot_redirected', 'x_coordinate', 'y_coordinate', 'shot_distance',\n",
       "       'shot_angle'],\n",
       "      dtype='object')"
      ]
     },
     "execution_count": 47,
     "metadata": {},
     "output_type": "execute_result"
    }
   ],
   "source": [
    "df.columns"
   ]
  },
  {
   "cell_type": "code",
   "execution_count": 48,
   "id": "727e6a26",
   "metadata": {},
   "outputs": [],
   "source": [
    "#change categorical features to type category: \n",
    "\n",
    "def typeToCategory(df,features):\n",
    "    \"\"\"Changes given features data type to category\n",
    "        args:\n",
    "        Dataframe and List of features\n",
    "\n",
    "        Returns Dataframe    \n",
    "    \"\"\"\n",
    "    if not isinstance(df, pd.DataFrame) or not isinstance(features,list):\n",
    "        raise ValueError(\"Invalid input types. Expects Dataframe and list\")\n",
    "    \n",
    "    try:\n",
    "        for f in features:\n",
    "            df[f] = df[f].astype('category')\n",
    "        \n",
    "        #validate changes \n",
    "        print(f\"\\nData types for categorical features : \\n{df[features].dtypes}\")\n",
    "        return df\n",
    "    except Exception as e:\n",
    "        print(f\"Error processing features:  {str(e)}\")\n",
    "        return None\n",
    "        \n"
   ]
  },
  {
   "cell_type": "code",
   "execution_count": 49,
   "id": "1cef1329",
   "metadata": {},
   "outputs": [
    {
     "name": "stdout",
     "output_type": "stream",
     "text": [
      "\n",
      "Data types for categorical features : \n",
      "shot_type                category\n",
      "body_part                category\n",
      "first_time_shot          category\n",
      "1v1_shot                 category\n",
      "shot_outcome             category\n",
      "under_pressure           category\n",
      "aerial_shot_won          category\n",
      "open_goal_shot           category\n",
      "deflected_shot           category\n",
      "shot_saved_to_post       category\n",
      "shot_follows_dribble     category\n",
      "shot_saved_off_target    category\n",
      "shot_redirected          category\n",
      "play_pattern             category\n",
      "shot_technique           category\n",
      "dtype: object\n"
     ]
    }
   ],
   "source": [
    "#categorical features\n",
    "cat_features =['shot_type','body_part','first_time_shot','1v1_shot','shot_outcome',\n",
    "               'under_pressure','aerial_shot_won','open_goal_shot','deflected_shot',\n",
    "               'shot_saved_to_post','shot_follows_dribble','shot_saved_off_target','shot_redirected',\n",
    "               'play_pattern','shot_technique',\n",
    "               ]\n",
    "#Change to category\n",
    "df_xg=typeToCategory(df,cat_features)"
   ]
  },
  {
   "cell_type": "code",
   "execution_count": 52,
   "id": "57b39bdb",
   "metadata": {},
   "outputs": [
    {
     "data": {
      "text/html": [
       "<div>\n",
       "<style scoped>\n",
       "    .dataframe tbody tr th:only-of-type {\n",
       "        vertical-align: middle;\n",
       "    }\n",
       "\n",
       "    .dataframe tbody tr th {\n",
       "        vertical-align: top;\n",
       "    }\n",
       "\n",
       "    .dataframe thead th {\n",
       "        text-align: right;\n",
       "    }\n",
       "</style>\n",
       "<table border=\"1\" class=\"dataframe\">\n",
       "  <thead>\n",
       "    <tr style=\"text-align: right;\">\n",
       "      <th></th>\n",
       "      <th>location</th>\n",
       "      <th>type_event</th>\n",
       "      <th>play_pattern</th>\n",
       "      <th>shot_xg</th>\n",
       "      <th>shot_end_location</th>\n",
       "      <th>shot_type</th>\n",
       "      <th>shot_outcome</th>\n",
       "      <th>shot_technique</th>\n",
       "      <th>body_part</th>\n",
       "      <th>first_time_shot</th>\n",
       "      <th>1v1_shot</th>\n",
       "      <th>under_pressure</th>\n",
       "      <th>aerial_shot_won</th>\n",
       "      <th>open_goal_shot</th>\n",
       "      <th>deflected_shot</th>\n",
       "      <th>shot_saved_to_post</th>\n",
       "      <th>shot_follows_dribble</th>\n",
       "      <th>shot_saved_off_target</th>\n",
       "      <th>shot_redirected</th>\n",
       "      <th>x_coordinate</th>\n",
       "      <th>y_coordinate</th>\n",
       "      <th>shot_distance</th>\n",
       "      <th>shot_angle</th>\n",
       "    </tr>\n",
       "  </thead>\n",
       "  <tbody>\n",
       "    <tr>\n",
       "      <th>0</th>\n",
       "      <td>[92.6, 52.0]</td>\n",
       "      <td>Shot</td>\n",
       "      <td>From Goal Kick</td>\n",
       "      <td>0.023820</td>\n",
       "      <td>[101.1, 47.5]</td>\n",
       "      <td>Open Play</td>\n",
       "      <td>Blocked</td>\n",
       "      <td>Normal</td>\n",
       "      <td>Right Foot</td>\n",
       "      <td>0</td>\n",
       "      <td>0</td>\n",
       "      <td>0</td>\n",
       "      <td>0</td>\n",
       "      <td>0</td>\n",
       "      <td>0</td>\n",
       "      <td>0</td>\n",
       "      <td>0</td>\n",
       "      <td>0</td>\n",
       "      <td>0</td>\n",
       "      <td>92.6</td>\n",
       "      <td>52.0</td>\n",
       "      <td>29.912539</td>\n",
       "      <td>0.223755</td>\n",
       "    </tr>\n",
       "    <tr>\n",
       "      <th>1</th>\n",
       "      <td>[114.0, 54.8]</td>\n",
       "      <td>Shot</td>\n",
       "      <td>Regular Play</td>\n",
       "      <td>0.014060</td>\n",
       "      <td>[114.6, 53.3]</td>\n",
       "      <td>Open Play</td>\n",
       "      <td>Blocked</td>\n",
       "      <td>Normal</td>\n",
       "      <td>Left Foot</td>\n",
       "      <td>0</td>\n",
       "      <td>0</td>\n",
       "      <td>0</td>\n",
       "      <td>0</td>\n",
       "      <td>0</td>\n",
       "      <td>0</td>\n",
       "      <td>0</td>\n",
       "      <td>0</td>\n",
       "      <td>0</td>\n",
       "      <td>0</td>\n",
       "      <td>114.0</td>\n",
       "      <td>54.8</td>\n",
       "      <td>15.969972</td>\n",
       "      <td>0.179792</td>\n",
       "    </tr>\n",
       "    <tr>\n",
       "      <th>2</th>\n",
       "      <td>[93.4, 44.5]</td>\n",
       "      <td>Shot</td>\n",
       "      <td>From Throw In</td>\n",
       "      <td>0.033115</td>\n",
       "      <td>[98.1, 43.9]</td>\n",
       "      <td>Open Play</td>\n",
       "      <td>Blocked</td>\n",
       "      <td>Normal</td>\n",
       "      <td>Right Foot</td>\n",
       "      <td>0</td>\n",
       "      <td>0</td>\n",
       "      <td>0</td>\n",
       "      <td>0</td>\n",
       "      <td>0</td>\n",
       "      <td>0</td>\n",
       "      <td>0</td>\n",
       "      <td>0</td>\n",
       "      <td>0</td>\n",
       "      <td>0</td>\n",
       "      <td>93.4</td>\n",
       "      <td>44.5</td>\n",
       "      <td>26.977954</td>\n",
       "      <td>0.266085</td>\n",
       "    </tr>\n",
       "    <tr>\n",
       "      <th>3</th>\n",
       "      <td>[114.7, 29.6]</td>\n",
       "      <td>Shot</td>\n",
       "      <td>From Corner</td>\n",
       "      <td>0.043661</td>\n",
       "      <td>[120.0, 43.4, 3.8]</td>\n",
       "      <td>Open Play</td>\n",
       "      <td>Off T</td>\n",
       "      <td>Normal</td>\n",
       "      <td>Head</td>\n",
       "      <td>0</td>\n",
       "      <td>0</td>\n",
       "      <td>0</td>\n",
       "      <td>0</td>\n",
       "      <td>0</td>\n",
       "      <td>0</td>\n",
       "      <td>0</td>\n",
       "      <td>0</td>\n",
       "      <td>0</td>\n",
       "      <td>0</td>\n",
       "      <td>114.7</td>\n",
       "      <td>29.6</td>\n",
       "      <td>11.672618</td>\n",
       "      <td>0.305878</td>\n",
       "    </tr>\n",
       "    <tr>\n",
       "      <th>4</th>\n",
       "      <td>[115.3, 32.5]</td>\n",
       "      <td>Shot</td>\n",
       "      <td>From Corner</td>\n",
       "      <td>0.124033</td>\n",
       "      <td>[116.0, 33.8]</td>\n",
       "      <td>Open Play</td>\n",
       "      <td>Blocked</td>\n",
       "      <td>Volley</td>\n",
       "      <td>Right Foot</td>\n",
       "      <td>1</td>\n",
       "      <td>0</td>\n",
       "      <td>0</td>\n",
       "      <td>0</td>\n",
       "      <td>0</td>\n",
       "      <td>0</td>\n",
       "      <td>0</td>\n",
       "      <td>0</td>\n",
       "      <td>0</td>\n",
       "      <td>0</td>\n",
       "      <td>115.3</td>\n",
       "      <td>32.5</td>\n",
       "      <td>8.850989</td>\n",
       "      <td>0.487160</td>\n",
       "    </tr>\n",
       "  </tbody>\n",
       "</table>\n",
       "</div>"
      ],
      "text/plain": [
       "        location type_event    play_pattern   shot_xg   shot_end_location  \\\n",
       "0   [92.6, 52.0]       Shot  From Goal Kick  0.023820       [101.1, 47.5]   \n",
       "1  [114.0, 54.8]       Shot    Regular Play  0.014060       [114.6, 53.3]   \n",
       "2   [93.4, 44.5]       Shot   From Throw In  0.033115        [98.1, 43.9]   \n",
       "3  [114.7, 29.6]       Shot     From Corner  0.043661  [120.0, 43.4, 3.8]   \n",
       "4  [115.3, 32.5]       Shot     From Corner  0.124033       [116.0, 33.8]   \n",
       "\n",
       "   shot_type shot_outcome shot_technique   body_part first_time_shot 1v1_shot  \\\n",
       "0  Open Play      Blocked         Normal  Right Foot               0        0   \n",
       "1  Open Play      Blocked         Normal   Left Foot               0        0   \n",
       "2  Open Play      Blocked         Normal  Right Foot               0        0   \n",
       "3  Open Play        Off T         Normal        Head               0        0   \n",
       "4  Open Play      Blocked         Volley  Right Foot               1        0   \n",
       "\n",
       "  under_pressure aerial_shot_won open_goal_shot deflected_shot  \\\n",
       "0              0               0              0              0   \n",
       "1              0               0              0              0   \n",
       "2              0               0              0              0   \n",
       "3              0               0              0              0   \n",
       "4              0               0              0              0   \n",
       "\n",
       "  shot_saved_to_post shot_follows_dribble shot_saved_off_target  \\\n",
       "0                  0                    0                     0   \n",
       "1                  0                    0                     0   \n",
       "2                  0                    0                     0   \n",
       "3                  0                    0                     0   \n",
       "4                  0                    0                     0   \n",
       "\n",
       "  shot_redirected  x_coordinate  y_coordinate  shot_distance  shot_angle  \n",
       "0               0          92.6          52.0      29.912539    0.223755  \n",
       "1               0         114.0          54.8      15.969972    0.179792  \n",
       "2               0          93.4          44.5      26.977954    0.266085  \n",
       "3               0         114.7          29.6      11.672618    0.305878  \n",
       "4               0         115.3          32.5       8.850989    0.487160  "
      ]
     },
     "execution_count": 52,
     "metadata": {},
     "output_type": "execute_result"
    }
   ],
   "source": [
    "#Feature selection\n",
    "df_xg.head()"
   ]
  },
  {
   "cell_type": "markdown",
   "id": "57f5c054",
   "metadata": {},
   "source": [
    "The following features will not be included as predictors; \n",
    "1.  location - as is not useful in logistic regression model\n",
    "2.  type_event - no variance in data type\n",
    "3.  shot_xg - will be used for comparison of predicted value\n",
    "4.  x_coordinate\n",
    "5.  y_coordinate\n",
    "6.  shot_end_location - as is not useful but can be engineered to derive where shot ended. (data leakage in training)\n",
    "7.  shot_outcome - this is target value to be predicted (will convert to binary 1-goal, 0-no goal)\n",
    "\n",
    "to further narrow the list\n"
   ]
  },
  {
   "cell_type": "code",
   "execution_count": 53,
   "id": "8f2d7f3b",
   "metadata": {},
   "outputs": [
    {
     "data": {
      "text/plain": [
       "Index(['location', 'type_event', 'play_pattern', 'shot_xg',\n",
       "       'shot_end_location', 'shot_type', 'shot_outcome', 'shot_technique',\n",
       "       'body_part', 'first_time_shot', '1v1_shot', 'under_pressure',\n",
       "       'aerial_shot_won', 'open_goal_shot', 'deflected_shot',\n",
       "       'shot_saved_to_post', 'shot_follows_dribble', 'shot_saved_off_target',\n",
       "       'shot_redirected', 'x_coordinate', 'y_coordinate', 'shot_distance',\n",
       "       'shot_angle'],\n",
       "      dtype='object')"
      ]
     },
     "execution_count": 53,
     "metadata": {},
     "output_type": "execute_result"
    }
   ],
   "source": [
    "df_xg.columns"
   ]
  },
  {
   "cell_type": "code",
   "execution_count": 56,
   "id": "de8d20f3",
   "metadata": {},
   "outputs": [
    {
     "data": {
      "text/plain": [
       "play_pattern             category\n",
       "shot_xg                   float64\n",
       "shot_type                category\n",
       "shot_outcome             category\n",
       "shot_technique           category\n",
       "body_part                category\n",
       "first_time_shot          category\n",
       "1v1_shot                 category\n",
       "under_pressure           category\n",
       "aerial_shot_won          category\n",
       "open_goal_shot           category\n",
       "deflected_shot           category\n",
       "shot_saved_to_post       category\n",
       "shot_follows_dribble     category\n",
       "shot_saved_off_target    category\n",
       "shot_redirected          category\n",
       "shot_distance             float64\n",
       "shot_angle                float64\n",
       "dtype: object"
      ]
     },
     "execution_count": 56,
     "metadata": {},
     "output_type": "execute_result"
    }
   ],
   "source": [
    "df_xg.dtypes"
   ]
  },
  {
   "cell_type": "code",
   "execution_count": 58,
   "id": "941dc790",
   "metadata": {},
   "outputs": [],
   "source": [
    "df_xg= df_xg[['play_pattern','shot_type','shot_outcome', 'shot_technique',\n",
    "       'body_part', 'first_time_shot', '1v1_shot', 'under_pressure',\n",
    "       'aerial_shot_won', 'open_goal_shot', 'deflected_shot',\n",
    "       'shot_saved_to_post', 'shot_follows_dribble', 'shot_saved_off_target',\n",
    "       'shot_redirected','shot_distance',\n",
    "       'shot_angle']]"
   ]
  },
  {
   "cell_type": "code",
   "execution_count": 59,
   "id": "8cca2cef",
   "metadata": {},
   "outputs": [
    {
     "name": "stdout",
     "output_type": "stream",
     "text": [
      "Numeric features: ['shot_distance', 'shot_angle']\n",
      "\n",
      "Categorical features: ['play_pattern', 'shot_type', 'shot_outcome', 'shot_technique', 'body_part', 'first_time_shot', '1v1_shot', 'under_pressure', 'aerial_shot_won', 'open_goal_shot', 'deflected_shot', 'shot_saved_to_post', 'shot_follows_dribble', 'shot_saved_off_target', 'shot_redirected']\n",
      "\n",
      " All features for modeling: ['play_pattern', 'shot_type', 'shot_technique', 'body_part', 'first_time_shot', '1v1_shot', 'under_pressure', 'aerial_shot_won', 'open_goal_shot', 'deflected_shot', 'shot_saved_to_post', 'shot_follows_dribble', 'shot_saved_off_target', 'shot_redirected', 'shot_distance', 'shot_angle']\n"
     ]
    }
   ],
   "source": [
    "numeric_features= df_xg.select_dtypes(include=['int64', 'float64']).columns.tolist()\n",
    "\n",
    "# Print numeric features to verify\n",
    "print(\"Numeric features:\", numeric_features)\n",
    "\n",
    "#target feature\n",
    "target = df_xg['shot_outcome']\n",
    "\n",
    "# Get categorical features (non-numeric features)\n",
    "categorical_features = df_xg.select_dtypes(include=['category']).columns.tolist()\n",
    "print(\"\\nCategorical features:\", categorical_features)\n",
    "\n",
    "features= [f for f in df_xg.columns if f != 'shot_outcome']\n",
    "print(f\"\\n All features for modeling:\", features)\n"
   ]
  },
  {
   "cell_type": "code",
   "execution_count": null,
   "id": "088dce1c",
   "metadata": {},
   "outputs": [],
   "source": []
  }
 ],
 "metadata": {
  "kernelspec": {
   "display_name": "myenv",
   "language": "python",
   "name": "python3"
  },
  "language_info": {
   "codemirror_mode": {
    "name": "ipython",
    "version": 3
   },
   "file_extension": ".py",
   "mimetype": "text/x-python",
   "name": "python",
   "nbconvert_exporter": "python",
   "pygments_lexer": "ipython3",
   "version": "3.11.9"
  }
 },
 "nbformat": 4,
 "nbformat_minor": 5
}
