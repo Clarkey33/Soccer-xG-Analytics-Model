{
 "cells": [
  {
   "cell_type": "markdown",
   "id": "602cb371",
   "metadata": {},
   "source": [
    "# Data Modeling "
   ]
  },
  {
   "cell_type": "code",
   "execution_count": 43,
   "id": "3e72153e",
   "metadata": {},
   "outputs": [],
   "source": [
    "#libraries required\n",
    "import pandas as pd \n",
    "import numpy as np\n",
    "import os\n",
    "import sys"
   ]
  },
  {
   "cell_type": "code",
   "execution_count": 45,
   "id": "20428a70",
   "metadata": {},
   "outputs": [
    {
     "name": "stdout",
     "output_type": "stream",
     "text": [
      "Dataset has 1494 rows and 23 columns\n"
     ]
    }
   ],
   "source": [
    "#load dataset\n",
    "file_path = \"../data/processed/shot_events_processed.csv\"\n",
    "\n",
    "df= pd.read_csv(file_path)\n",
    "\n",
    "print(f\"Dataset has {df.shape[0]} rows and {df.shape[1]} columns\")"
   ]
  },
  {
   "cell_type": "code",
   "execution_count": 46,
   "id": "f2176ef7",
   "metadata": {},
   "outputs": [
    {
     "name": "stdout",
     "output_type": "stream",
     "text": [
      "location                 0.0\n",
      "type_event               0.0\n",
      "play_pattern             0.0\n",
      "shot_xg                  0.0\n",
      "shot_end_location        0.0\n",
      "shot_type                0.0\n",
      "shot_outcome             0.0\n",
      "shot_technique           0.0\n",
      "body_part                0.0\n",
      "first_time_shot          0.0\n",
      "1v1_shot                 0.0\n",
      "under_pressure           0.0\n",
      "aerial_shot_won          0.0\n",
      "open_goal_shot           0.0\n",
      "deflected_shot           0.0\n",
      "shot_saved_to_post       0.0\n",
      "shot_follows_dribble     0.0\n",
      "shot_saved_off_target    0.0\n",
      "shot_redirected          0.0\n",
      "x_coordinate             0.0\n",
      "y_coordinate             0.0\n",
      "shot_distance            0.0\n",
      "shot_angle               0.0\n",
      "dtype: float64\n",
      "\n",
      " Data types in dataset \n",
      "location                  object\n",
      "type_event                object\n",
      "play_pattern              object\n",
      "shot_xg                  float64\n",
      "shot_end_location         object\n",
      "shot_type                 object\n",
      "shot_outcome              object\n",
      "shot_technique            object\n",
      "body_part                 object\n",
      "first_time_shot            int64\n",
      "1v1_shot                   int64\n",
      "under_pressure             int64\n",
      "aerial_shot_won            int64\n",
      "open_goal_shot             int64\n",
      "deflected_shot             int64\n",
      "shot_saved_to_post         int64\n",
      "shot_follows_dribble       int64\n",
      "shot_saved_off_target      int64\n",
      "shot_redirected            int64\n",
      "x_coordinate             float64\n",
      "y_coordinate             float64\n",
      "shot_distance            float64\n",
      "shot_angle               float64\n",
      "dtype: object\n"
     ]
    }
   ],
   "source": [
    "#confirm no missing values\n",
    "print(df.isna().mean()*100)\n",
    "\n",
    "#confirm data types\n",
    "print(f\"\\n Data types in dataset \\n{df.dtypes}\")"
   ]
  },
  {
   "cell_type": "code",
   "execution_count": 47,
   "id": "508cc65e",
   "metadata": {},
   "outputs": [
    {
     "data": {
      "text/plain": [
       "Index(['location', 'type_event', 'play_pattern', 'shot_xg',\n",
       "       'shot_end_location', 'shot_type', 'shot_outcome', 'shot_technique',\n",
       "       'body_part', 'first_time_shot', '1v1_shot', 'under_pressure',\n",
       "       'aerial_shot_won', 'open_goal_shot', 'deflected_shot',\n",
       "       'shot_saved_to_post', 'shot_follows_dribble', 'shot_saved_off_target',\n",
       "       'shot_redirected', 'x_coordinate', 'y_coordinate', 'shot_distance',\n",
       "       'shot_angle'],\n",
       "      dtype='object')"
      ]
     },
     "execution_count": 47,
     "metadata": {},
     "output_type": "execute_result"
    }
   ],
   "source": [
    "df.columns"
   ]
  },
  {
   "cell_type": "code",
   "execution_count": 48,
   "id": "727e6a26",
   "metadata": {},
   "outputs": [],
   "source": [
    "#change categorical features to type category: \n",
    "\n",
    "def typeToCategory(df,features):\n",
    "    \"\"\"Changes given features data type to category\n",
    "        args:\n",
    "        Dataframe and List of features\n",
    "\n",
    "        Returns Dataframe    \n",
    "    \"\"\"\n",
    "    if not isinstance(df, pd.DataFrame) or not isinstance(features,list):\n",
    "        raise ValueError(\"Invalid input types. Expects Dataframe and list\")\n",
    "    \n",
    "    try:\n",
    "        for f in features:\n",
    "            df[f] = df[f].astype('category')\n",
    "        \n",
    "        #validate changes \n",
    "        print(f\"\\nData types for categorical features : \\n{df[features].dtypes}\")\n",
    "        return df\n",
    "    except Exception as e:\n",
    "        print(f\"Error processing features:  {str(e)}\")\n",
    "        return None\n",
    "        \n"
   ]
  },
  {
   "cell_type": "code",
   "execution_count": 49,
   "id": "1cef1329",
   "metadata": {},
   "outputs": [
    {
     "name": "stdout",
     "output_type": "stream",
     "text": [
      "\n",
      "Data types for categorical features : \n",
      "shot_type                category\n",
      "body_part                category\n",
      "first_time_shot          category\n",
      "1v1_shot                 category\n",
      "shot_outcome             category\n",
      "under_pressure           category\n",
      "aerial_shot_won          category\n",
      "open_goal_shot           category\n",
      "deflected_shot           category\n",
      "shot_saved_to_post       category\n",
      "shot_follows_dribble     category\n",
      "shot_saved_off_target    category\n",
      "shot_redirected          category\n",
      "play_pattern             category\n",
      "shot_technique           category\n",
      "dtype: object\n"
     ]
    }
   ],
   "source": [
    "#categorical features\n",
    "cat_features =['shot_type','body_part','first_time_shot','1v1_shot','shot_outcome',\n",
    "               'under_pressure','aerial_shot_won','open_goal_shot','deflected_shot',\n",
    "               'shot_saved_to_post','shot_follows_dribble','shot_saved_off_target','shot_redirected',\n",
    "               'play_pattern','shot_technique',\n",
    "               ]\n",
    "#Change to category\n",
    "df_xg=typeToCategory(df,cat_features)"
   ]
  },
  {
   "cell_type": "code",
   "execution_count": null,
   "id": "57b39bdb",
   "metadata": {},
   "outputs": [],
   "source": []
  }
 ],
 "metadata": {
  "kernelspec": {
   "display_name": "myenv",
   "language": "python",
   "name": "python3"
  },
  "language_info": {
   "codemirror_mode": {
    "name": "ipython",
    "version": 3
   },
   "file_extension": ".py",
   "mimetype": "text/x-python",
   "name": "python",
   "nbconvert_exporter": "python",
   "pygments_lexer": "ipython3",
   "version": "3.11.9"
  }
 },
 "nbformat": 4,
 "nbformat_minor": 5
}
